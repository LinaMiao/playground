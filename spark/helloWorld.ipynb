{
 "cells": [
  {
   "cell_type": "code",
   "execution_count": 1,
   "metadata": {
    "collapsed": true,
    "deletable": true,
    "editable": true
   },
   "outputs": [],
   "source": [
    "import findspark\n",
    "findspark.init()"
   ]
  },
  {
   "cell_type": "code",
   "execution_count": 2,
   "metadata": {
    "collapsed": true,
    "deletable": true,
    "editable": true
   },
   "outputs": [],
   "source": [
    "import pyspark"
   ]
  },
  {
   "cell_type": "code",
   "execution_count": 3,
   "metadata": {
    "collapsed": false,
    "deletable": true,
    "editable": true
   },
   "outputs": [],
   "source": [
    "sc = pyspark.SparkContext('local[*]')"
   ]
  },
  {
   "cell_type": "code",
   "execution_count": 4,
   "metadata": {
    "collapsed": false,
    "deletable": true,
    "editable": true
   },
   "outputs": [],
   "source": [
    "confusedRDD = sc.textFile(\"/Users/linamiao/playground/spark/confused.txt\")"
   ]
  },
  {
   "cell_type": "code",
   "execution_count": 5,
   "metadata": {
    "collapsed": false,
    "deletable": true,
    "editable": true
   },
   "outputs": [
    {
     "data": {
      "text/plain": [
       "[u'Confusion is the inability to think as clearly or quickly as you normally do.',\n",
       " u'',\n",
       " u'You may  have difficulty paying attention to anything , remembering anyone, and making decisions.',\n",
       " u'',\n",
       " u'Confusion may come to anyone early or late phase of the life, depending on the reason behind it .']"
      ]
     },
     "execution_count": 5,
     "metadata": {},
     "output_type": "execute_result"
    }
   ],
   "source": [
    "confusedRDD.take(5)"
   ]
  },
  {
   "cell_type": "code",
   "execution_count": 6,
   "metadata": {
    "collapsed": false,
    "deletable": true,
    "editable": true
   },
   "outputs": [
    {
     "data": {
      "text/plain": [
       "[[u'Confusion',\n",
       "  u'is',\n",
       "  u'the',\n",
       "  u'inability',\n",
       "  u'to',\n",
       "  u'think',\n",
       "  u'as',\n",
       "  u'clearly',\n",
       "  u'or',\n",
       "  u'quickly',\n",
       "  u'as',\n",
       "  u'you',\n",
       "  u'normally',\n",
       "  u'do.'],\n",
       " [u''],\n",
       " [u'You',\n",
       "  u'may',\n",
       "  u'',\n",
       "  u'have',\n",
       "  u'difficulty',\n",
       "  u'paying',\n",
       "  u'attention',\n",
       "  u'to',\n",
       "  u'anything',\n",
       "  u',',\n",
       "  u'remembering',\n",
       "  u'anyone,',\n",
       "  u'and',\n",
       "  u'making',\n",
       "  u'decisions.'],\n",
       " [u''],\n",
       " [u'Confusion',\n",
       "  u'may',\n",
       "  u'come',\n",
       "  u'to',\n",
       "  u'anyone',\n",
       "  u'early',\n",
       "  u'or',\n",
       "  u'late',\n",
       "  u'phase',\n",
       "  u'of',\n",
       "  u'the',\n",
       "  u'life,',\n",
       "  u'depending',\n",
       "  u'on',\n",
       "  u'the',\n",
       "  u'reason',\n",
       "  u'behind',\n",
       "  u'it',\n",
       "  u'.']]"
      ]
     },
     "execution_count": 6,
     "metadata": {},
     "output_type": "execute_result"
    }
   ],
   "source": [
    "mappedconfusion = confusedRDD.map(lambda line: line.split(\" \"))\n",
    "mappedconfusion.take(5)"
   ]
  },
  {
   "cell_type": "code",
   "execution_count": 8,
   "metadata": {
    "collapsed": false
   },
   "outputs": [
    {
     "data": {
      "text/plain": [
       "[u'Confusion', u'is', u'the', u'inability', u'to']"
      ]
     },
     "execution_count": 8,
     "metadata": {},
     "output_type": "execute_result"
    }
   ],
   "source": [
    "flatmappedconfusion = confusedRDD.flatMap(lambda line: line.split(\" \"))\n",
    "flatmappedconfusion.take(5)"
   ]
  },
  {
   "cell_type": "code",
   "execution_count": 9,
   "metadata": {
    "collapsed": true
   },
   "outputs": [],
   "source": [
    "onlyconfusion = confusedRDD.filter(lambda line: (\"confus\" in line.lower()))"
   ]
  },
  {
   "cell_type": "code",
   "execution_count": 12,
   "metadata": {
    "collapsed": false
   },
   "outputs": [
    {
     "name": "stdout",
     "output_type": "stream",
     "text": [
      "[u'Confusion is the inability to think as clearly or quickly as you normally do.', u'Confusion may come to anyone early or late phase of the life, depending on the reason behind it .', u'Many times, confusion lasts for a very short span and goes away.', u'Confusion is more common in people who are in late stages of the life and often occurs when you have stayed in hospital.', u'Some confused people may have strange or unusual behavior or may act aggressively.']\n"
     ]
    },
    {
     "data": {
      "text/plain": [
       "7"
      ]
     },
     "execution_count": 12,
     "metadata": {},
     "output_type": "execute_result"
    }
   ],
   "source": [
    "print onlyconfusion.take(5)\n",
    "onlyconfusion.count()\n"
   ]
  },
  {
   "cell_type": "code",
   "execution_count": 13,
   "metadata": {
    "collapsed": false
   },
   "outputs": [
    {
     "data": {
      "text/plain": [
       "[u'Confusion is the inability to think as clearly or quickly as you normally do.',\n",
       " u'Confusion may come to anyone early or late phase of the life, depending on the reason behind it .',\n",
       " u'Many times, confusion lasts for a very short span and goes away.',\n",
       " u'Confusion is more common in people who are in late stages of the life and often occurs when you have stayed in hospital.',\n",
       " u'Some confused people may have strange or unusual behavior or may act aggressively.',\n",
       " u'A good way to find out if anyone is confused is to question the person their identity i.e. name, age, and the date.',\n",
       " u'If they are little not sure or unable to answer correctly, they are confused']"
      ]
     },
     "execution_count": 13,
     "metadata": {},
     "output_type": "execute_result"
    }
   ],
   "source": [
    "onlyconfusion.collect()"
   ]
  },
  {
   "cell_type": "code",
   "execution_count": 18,
   "metadata": {
    "collapsed": false
   },
   "outputs": [
    {
     "data": {
      "text/plain": [
       "[u'Confusion is the inability to think as clearly or quickly as you normally do.',\n",
       " u'',\n",
       " u'',\n",
       " u'Many times, confusion lasts for a very short span and goes away.',\n",
       " u'Other times, it may be permanent and has no cure. It may have association with delirium or dementia. ',\n",
       " u'A good way to find out if anyone is confused is to question the person their identity i.e. name, age, and the date.',\n",
       " u'A good way to find out if anyone is confused is to question the person their identity i.e. name, age, and the date.']"
      ]
     },
     "execution_count": 18,
     "metadata": {},
     "output_type": "execute_result"
    }
   ],
   "source": [
    "sampledconfusion = confusedRDD.sample(True, 0.3, 3)\n",
    "sampledconfusion.collect()"
   ]
  },
  {
   "cell_type": "code",
   "execution_count": 15,
   "metadata": {
    "collapsed": false
   },
   "outputs": [
    {
     "name": "stdout",
     "output_type": "stream",
     "text": [
      "Help on method sample in module pyspark.rdd:\n",
      "\n",
      "sample(self, withReplacement, fraction, seed=None) method of pyspark.rdd.RDD instance\n",
      "    Return a sampled subset of this RDD.\n",
      "    \n",
      "    :param withReplacement: can elements be sampled multiple times (replaced when sampled out)\n",
      "    :param fraction: expected size of the sample as a fraction of this RDD's size\n",
      "        without replacement: probability that each element is chosen; fraction must be [0, 1]\n",
      "        with replacement: expected number of times each element is chosen; fraction must be >= 0\n",
      "    :param seed: seed for the random number generator\n",
      "    \n",
      "    .. note:: This is not guaranteed to provide exactly the fraction specified of the total\n",
      "        count of the given :class:`DataFrame`.\n",
      "    \n",
      "    >>> rdd = sc.parallelize(range(100), 4)\n",
      "    >>> 6 <= rdd.sample(False, 0.1, 81).count() <= 14\n",
      "    True\n",
      "\n"
     ]
    }
   ],
   "source": [
    "help(confusedRDD.sample)"
   ]
  },
  {
   "cell_type": "code",
   "execution_count": 19,
   "metadata": {
    "collapsed": false
   },
   "outputs": [
    {
     "data": {
      "text/plain": [
       "[('physics', 85),\n",
       " ('maths', 75),\n",
       " ('chemistry', 95),\n",
       " ('physics', 65),\n",
       " ('maths', 45),\n",
       " ('chemistry', 85)]"
      ]
     },
     "execution_count": 19,
     "metadata": {},
     "output_type": "execute_result"
    }
   ],
   "source": [
    "abhay_marks = [(\"physics\",85),(\"maths\",75),(\"chemistry\",95)]\n",
    "ankur_marks = [(\"physics\",65),(\"maths\",45),(\"chemistry\",85)]\n",
    "abhay = sc.parallelize(abhay_marks)\n",
    "ankur = sc.parallelize(ankur_marks)\n",
    "abhay.union(ankur).collect()"
   ]
  },
  {
   "cell_type": "code",
   "execution_count": 20,
   "metadata": {
    "collapsed": false
   },
   "outputs": [
    {
     "data": {
      "text/plain": [
       "[('maths', (75, 45)), ('chemistry', (95, 85)), ('physics', (85, 65))]"
      ]
     },
     "execution_count": 20,
     "metadata": {},
     "output_type": "execute_result"
    }
   ],
   "source": [
    "Subject_wise_marks = abhay.join(ankur)\n",
    "Subject_wise_marks.collect()"
   ]
  },
  {
   "cell_type": "code",
   "execution_count": 21,
   "metadata": {
    "collapsed": false
   },
   "outputs": [
    {
     "data": {
      "text/plain": [
       "['abhay', 'rahul']"
      ]
     },
     "execution_count": 21,
     "metadata": {},
     "output_type": "execute_result"
    }
   ],
   "source": [
    "Cricket_team = [\"sachin\",\"abhay\",\"michael\",\"rahane\",\"david\",\"ross\",\"raj\",\"rahul\",\"hussy\",\"steven\",\"sourav\"]\n",
    "Toppers = [\"rahul\",\"abhay\",\"laxman\",\"bill\",\"steve\"]\n",
    "cricketRDD = sc.parallelize(Cricket_team)\n",
    "toppersRDD = sc.parallelize(Toppers)\n",
    "toppercricketers = cricketRDD.intersection(toppersRDD)\n",
    "toppercricketers.collect()"
   ]
  },
  {
   "cell_type": "code",
   "execution_count": 22,
   "metadata": {
    "collapsed": false
   },
   "outputs": [
    {
     "data": {
      "text/plain": [
       "['movie1',\n",
       " 'movie3',\n",
       " 'movie7',\n",
       " 'movie5',\n",
       " 'movie8',\n",
       " 'movie11',\n",
       " 'movie1',\n",
       " 'movie5',\n",
       " 'movie10',\n",
       " 'movie7',\n",
       " 'movie10',\n",
       " 'movie4',\n",
       " 'movie6',\n",
       " 'movie7',\n",
       " 'movie3']"
      ]
     },
     "execution_count": 22,
     "metadata": {},
     "output_type": "execute_result"
    }
   ],
   "source": [
    "best_story = [\"movie1\",\"movie3\",\"movie7\",\"movie5\",\"movie8\"]\n",
    "best_direction = [\"movie11\",\"movie1\",\"movie5\",\"movie10\",\"movie7\"]\n",
    "best_screenplay = [\"movie10\",\"movie4\",\"movie6\",\"movie7\",\"movie3\"]\n",
    "story_rdd = sc.parallelize(best_story)\n",
    "direction_rdd = sc.parallelize(best_direction)\n",
    "screen_rdd = sc.parallelize(best_screenplay)\n",
    "total_nomination_rdd = story_rdd.union(direction_rdd).union(screen_rdd)\n",
    "total_nomination_rdd.collect()"
   ]
  },
  {
   "cell_type": "code",
   "execution_count": 23,
   "metadata": {
    "collapsed": false
   },
   "outputs": [
    {
     "data": {
      "text/plain": [
       "['movie6',\n",
       " 'movie7',\n",
       " 'movie4',\n",
       " 'movie5',\n",
       " 'movie8',\n",
       " 'movie10',\n",
       " 'movie3',\n",
       " 'movie11',\n",
       " 'movie1']"
      ]
     },
     "execution_count": 23,
     "metadata": {},
     "output_type": "execute_result"
    }
   ],
   "source": [
    "unique_movies_rdd = total_nomination_rdd.distinct()\n",
    "unique_movies_rdd .collect()"
   ]
  },
  {
   "cell_type": "code",
   "execution_count": 24,
   "metadata": {
    "collapsed": false
   },
   "outputs": [
    {
     "data": {
      "text/plain": [
       "2"
      ]
     },
     "execution_count": 24,
     "metadata": {},
     "output_type": "execute_result"
    }
   ],
   "source": [
    "confusedRDD.getNumPartitions()"
   ]
  },
  {
   "cell_type": "code",
   "execution_count": 25,
   "metadata": {
    "collapsed": true
   },
   "outputs": [],
   "source": [
    "userRDD = sc.textFile('/Users/linamiao/Downloads/ml-100k/u.user')"
   ]
  },
  {
   "cell_type": "code",
   "execution_count": 26,
   "metadata": {
    "collapsed": false
   },
   "outputs": [
    {
     "data": {
      "text/plain": [
       "943"
      ]
     },
     "execution_count": 26,
     "metadata": {},
     "output_type": "execute_result"
    }
   ],
   "source": [
    "userRDD.count()"
   ]
  },
  {
   "cell_type": "code",
   "execution_count": 31,
   "metadata": {
    "collapsed": true
   },
   "outputs": [],
   "source": [
    "def parse_N_calculate_age(data):\n",
    "    userid,age,gender,occupation,zip = data.split(\"|\")\n",
    "    return  userid, age_group(int(age)),gender,occupation,zip,int(age)\n",
    "def age_group(age):\n",
    "    if age < 10 :\n",
    "        return '0-10'\n",
    "    elif age < 20:\n",
    "        return '10-20'\n",
    "    elif age < 30:\n",
    "        return '20-30'\n",
    "    elif age < 40:\n",
    "        return '30-40'\n",
    "    elif age < 50:\n",
    "        return '40-50'\n",
    "    elif age < 60:\n",
    "        return '50-60'\n",
    "    elif age < 70:\n",
    "        return '60-70'\n",
    "    elif age < 80:\n",
    "        return '70-80'\n",
    "    else :\n",
    "        return '80+'"
   ]
  },
  {
   "cell_type": "code",
   "execution_count": 28,
   "metadata": {
    "collapsed": true
   },
   "outputs": [],
   "source": [
    "data_with_age_bucket = userRDD.map(parse_N_calculate_age)"
   ]
  },
  {
   "cell_type": "code",
   "execution_count": 29,
   "metadata": {
    "collapsed": true
   },
   "outputs": [],
   "source": [
    "RDD_20_30 = data_with_age_bucket.filter(lambda line : '20-30' in line)"
   ]
  },
  {
   "cell_type": "code",
   "execution_count": 32,
   "metadata": {
    "collapsed": false
   },
   "outputs": [
    {
     "data": {
      "text/plain": [
       "{u'administrator': 19,\n",
       " u'artist': 12,\n",
       " u'doctor': 2,\n",
       " u'educator': 12,\n",
       " u'engineer': 23,\n",
       " u'entertainment': 8,\n",
       " u'executive': 7,\n",
       " u'healthcare': 4,\n",
       " u'homemaker': 3,\n",
       " u'lawyer': 4,\n",
       " u'librarian': 11,\n",
       " u'marketing': 5,\n",
       " u'none': 2,\n",
       " u'other': 38,\n",
       " u'programmer': 30,\n",
       " u'salesman': 2,\n",
       " u'scientist': 8,\n",
       " u'student': 116,\n",
       " u'technician': 12,\n",
       " u'writer': 14}"
      ]
     },
     "execution_count": 32,
     "metadata": {},
     "output_type": "execute_result"
    }
   ],
   "source": [
    "freq = RDD_20_30.map(lambda line : line[3]).countByValue()\n",
    "dict(freq)"
   ]
  },
  {
   "cell_type": "code",
   "execution_count": 33,
   "metadata": {
    "collapsed": false
   },
   "outputs": [
    {
     "data": {
      "text/plain": [
       "{u'F': 85, u'M': 247}"
      ]
     },
     "execution_count": 33,
     "metadata": {},
     "output_type": "execute_result"
    }
   ],
   "source": [
    "age_wise = RDD_20_30.map (lambda line : line[2]).countByValue()\n",
    "dict(age_wise)"
   ]
  },
  {
   "cell_type": "code",
   "execution_count": 34,
   "metadata": {
    "collapsed": false
   },
   "outputs": [
    {
     "data": {
      "text/plain": [
       "PythonRDD[54] at RDD at PythonRDD.scala:48"
      ]
     },
     "execution_count": 34,
     "metadata": {},
     "output_type": "execute_result"
    }
   ],
   "source": [
    "RDD_20_30.unpersist()"
   ]
  },
  {
   "cell_type": "code",
   "execution_count": 35,
   "metadata": {
    "collapsed": true
   },
   "outputs": [],
   "source": [
    "Under_age = sc.accumulator(0)\n",
    "Over_age = sc.accumulator(0)"
   ]
  },
  {
   "cell_type": "code",
   "execution_count": 36,
   "metadata": {
    "collapsed": true
   },
   "outputs": [],
   "source": [
    "def outliers(data):\n",
    "    global Over_age, Under_age\n",
    "    age_grp = data[1]\n",
    "    if(age_grp == \"70-80\"):\n",
    "        Over_age +=1\n",
    "    if(age_grp == \"0-10\"):\n",
    "        Under_age +=1\n",
    "    return data"
   ]
  },
  {
   "cell_type": "code",
   "execution_count": 37,
   "metadata": {
    "collapsed": true
   },
   "outputs": [],
   "source": [
    "df = data_with_age_bucket.map(outliers).collect()"
   ]
  },
  {
   "cell_type": "code",
   "execution_count": 38,
   "metadata": {
    "collapsed": false
   },
   "outputs": [
    {
     "data": {
      "text/plain": [
       "1"
      ]
     },
     "execution_count": 38,
     "metadata": {},
     "output_type": "execute_result"
    }
   ],
   "source": [
    "Under_age.value"
   ]
  },
  {
   "cell_type": "code",
   "execution_count": 39,
   "metadata": {
    "collapsed": false
   },
   "outputs": [
    {
     "data": {
      "text/plain": [
       "4"
      ]
     },
     "execution_count": 39,
     "metadata": {},
     "output_type": "execute_result"
    }
   ],
   "source": [
    "Over_age.value"
   ]
  },
  {
   "cell_type": "code",
   "execution_count": null,
   "metadata": {
    "collapsed": true
   },
   "outputs": [],
   "source": []
  }
 ],
 "metadata": {
  "kernelspec": {
   "display_name": "Python 2",
   "language": "python",
   "name": "python2"
  },
  "language_info": {
   "codemirror_mode": {
    "name": "ipython",
    "version": 2
   },
   "file_extension": ".py",
   "mimetype": "text/x-python",
   "name": "python",
   "nbconvert_exporter": "python",
   "pygments_lexer": "ipython2",
   "version": "2.7.12"
  }
 },
 "nbformat": 4,
 "nbformat_minor": 2
}
