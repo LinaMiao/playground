{
 "cells": [
  {
   "cell_type": "code",
   "execution_count": 3,
   "metadata": {
    "collapsed": false
   },
   "outputs": [],
   "source": [
    "import findspark\n",
    "findspark.init()\n",
    "import pyspark\n",
    "sc = pyspark.SparkContext('local[*]')"
   ]
  },
  {
   "cell_type": "code",
   "execution_count": 5,
   "metadata": {
    "collapsed": false
   },
   "outputs": [],
   "source": [
    "from pyspark.sql import SQLContext\n",
    "sqlContext = SQLContext(sc)"
   ]
  },
  {
   "cell_type": "code",
   "execution_count": 6,
   "metadata": {
    "collapsed": true
   },
   "outputs": [],
   "source": [
    "from pyspark.mllib.util import MLUtils"
   ]
  },
  {
   "cell_type": "code",
   "execution_count": 7,
   "metadata": {
    "collapsed": false
   },
   "outputs": [
    {
     "data": {
      "text/plain": [
       "[LabeledPoint(1.0, (4,[0,1,2,3],[-0.555556,0.25,-0.864407,-0.916667])),\n",
       " LabeledPoint(1.0, (4,[0,1,2,3],[-0.666667,-0.166667,-0.864407,-0.916667])),\n",
       " LabeledPoint(1.0, (4,[0,2,3],[-0.777778,-0.898305,-0.916667])),\n",
       " LabeledPoint(1.0, (4,[0,1,2,3],[-0.833333,-0.0833334,-0.830508,-0.916667])),\n",
       " LabeledPoint(1.0, (4,[0,1,2,3],[-0.611111,0.333333,-0.864407,-0.916667]))]"
      ]
     },
     "execution_count": 7,
     "metadata": {},
     "output_type": "execute_result"
    }
   ],
   "source": [
    "baseDir = '/Users/linamiao/playground/spark/'\n",
    "irisPath = baseDir + 'iris.scale'\n",
    "irisRDD = MLUtils.loadLibSVMFile(sc,irisPath, minPartitions=20).cache()\n",
    "\n",
    "irisRDD.take(5)"
   ]
  },
  {
   "cell_type": "code",
   "execution_count": 8,
   "metadata": {
    "collapsed": false
   },
   "outputs": [
    {
     "data": {
      "text/plain": [
       "[u'1 1:-0.555556 2:0.25 3:-0.864407 4:-0.916667 ',\n",
       " u'1 1:-0.666667 2:-0.166667 3:-0.864407 4:-0.916667 ',\n",
       " u'1 1:-0.777778 3:-0.898305 4:-0.916667 ',\n",
       " u'1 1:-0.833333 2:-0.0833334 3:-0.830508 4:-0.916667 ',\n",
       " u'1 1:-0.611111 2:0.333333 3:-0.864407 4:-0.916667 ']"
      ]
     },
     "execution_count": 8,
     "metadata": {},
     "output_type": "execute_result"
    }
   ],
   "source": [
    "sc.textFile(irisPath).take(5)"
   ]
  },
  {
   "cell_type": "code",
   "execution_count": 9,
   "metadata": {
    "collapsed": false
   },
   "outputs": [
    {
     "name": "stdout",
     "output_type": "stream",
     "text": [
      "number of partitions:20\n",
      "elements per partition: [(0, 8), (1, 7), (2, 8), (3, 8), (4, 7), (5, 8), (6, 8), (7, 7), (8, 7), (9, 7), (10, 8), (11, 7), (12, 7), (13, 7), (14, 8), (15, 8), (16, 8), (17, 7), (18, 7), (19, 8)]\n",
      "\n"
     ]
    },
    {
     "data": {
      "text/plain": [
       "[[LabeledPoint(1.0, (4,[0,1,2,3],[-0.555556,0.25,-0.864407,-0.916667])),\n",
       "  LabeledPoint(1.0, (4,[0,1,2,3],[-0.666667,-0.166667,-0.864407,-0.916667])),\n",
       "  LabeledPoint(1.0, (4,[0,2,3],[-0.777778,-0.898305,-0.916667])),\n",
       "  LabeledPoint(1.0, (4,[0,1,2,3],[-0.833333,-0.0833334,-0.830508,-0.916667])),\n",
       "  LabeledPoint(1.0, (4,[0,1,2,3],[-0.611111,0.333333,-0.864407,-0.916667])),\n",
       "  LabeledPoint(1.0, (4,[0,1,2,3],[-0.388889,0.583333,-0.762712,-0.75])),\n",
       "  LabeledPoint(1.0, (4,[0,1,2,3],[-0.833333,0.166667,-0.864407,-0.833333])),\n",
       "  LabeledPoint(1.0, (4,[0,1,2,3],[-0.611111,0.166667,-0.830508,-0.916667]))]]"
      ]
     },
     "execution_count": 9,
     "metadata": {},
     "output_type": "execute_result"
    }
   ],
   "source": [
    "print 'number of partitions:{0}'.format(irisRDD.getNumPartitions())\n",
    "elementsPerPart = (irisRDD\n",
    "                    .mapPartitionsWithIndex(lambda i,x: [(i, len(list(x)))])\n",
    "                    .collect()\n",
    "                    )\n",
    "print 'elements per partition: {0}\\n'.format(elementsPerPart)\n",
    "irisRDD.glom().take(1)"
   ]
  },
  {
   "cell_type": "code",
   "execution_count": 11,
   "metadata": {
    "collapsed": false
   },
   "outputs": [
    {
     "data": {
      "text/plain": [
       "[Row(features=SparseVector(4, {0: -0.5556, 1: 0.25, 2: -0.8644, 3: -0.9167}), label=1.0),\n",
       " Row(features=SparseVector(4, {0: -0.6667, 1: -0.1667, 2: -0.8644, 3: -0.9167}), label=1.0),\n",
       " Row(features=SparseVector(4, {0: -0.7778, 2: -0.8983, 3: -0.9167}), label=1.0),\n",
       " Row(features=SparseVector(4, {0: -0.8333, 1: -0.0833, 2: -0.8305, 3: -0.9167}), label=1.0),\n",
       " Row(features=SparseVector(4, {0: -0.6111, 1: 0.3333, 2: -0.8644, 3: -0.9167}), label=1.0)]"
      ]
     },
     "execution_count": 11,
     "metadata": {},
     "output_type": "execute_result"
    }
   ],
   "source": [
    "irisDF = irisRDD.toDF()\n",
    "irisDF.take(5)"
   ]
  },
  {
   "cell_type": "code",
   "execution_count": 13,
   "metadata": {
    "collapsed": false
   },
   "outputs": [
    {
     "name": "stdout",
     "output_type": "stream",
     "text": [
      "+--------------------------------------------------------+-----+\n",
      "|features                                                |label|\n",
      "+--------------------------------------------------------+-----+\n",
      "|(4,[0,1,2,3],[-0.555556,0.25,-0.864407,-0.916667])      |1.0  |\n",
      "|(4,[0,1,2,3],[-0.666667,-0.166667,-0.864407,-0.916667]) |1.0  |\n",
      "|(4,[0,2,3],[-0.777778,-0.898305,-0.916667])             |1.0  |\n",
      "|(4,[0,1,2,3],[-0.833333,-0.0833334,-0.830508,-0.916667])|1.0  |\n",
      "|(4,[0,1,2,3],[-0.611111,0.333333,-0.864407,-0.916667])  |1.0  |\n",
      "+--------------------------------------------------------+-----+\n",
      "only showing top 5 rows\n",
      "\n"
     ]
    }
   ],
   "source": [
    "irisDF.show(5, False)"
   ]
  },
  {
   "cell_type": "code",
   "execution_count": 19,
   "metadata": {
    "collapsed": false
   },
   "outputs": [
    {
     "name": "stdout",
     "output_type": "stream",
     "text": [
      "StructType(List(StructField(features,VectorUDT,true),StructField(label,DoubleType,true)))\n",
      "root\n",
      " |-- features: vector (nullable = true)\n",
      " |-- label: double (nullable = true)\n",
      "\n"
     ]
    }
   ],
   "source": [
    "print irisDF.schema\n",
    "irisDF.printSchema()"
   ]
  },
  {
   "cell_type": "code",
   "execution_count": 21,
   "metadata": {
    "collapsed": false
   },
   "outputs": [
    {
     "name": "stdout",
     "output_type": "stream",
     "text": [
      "+--------------------+-----+\n",
      "|            features|label|\n",
      "+--------------------+-----+\n",
      "|(4,[0,1,2,3],[-0....|  0.0|\n",
      "|(4,[0,1,2,3],[-0....|  0.0|\n",
      "|(4,[0,2,3],[-0.77...|  0.0|\n",
      "|(4,[0,1,2,3],[-0....|  0.0|\n",
      "|(4,[0,1,2,3],[-0....|  0.0|\n",
      "+--------------------+-----+\n",
      "only showing top 5 rows\n",
      "\n"
     ]
    }
   ],
   "source": [
    "from pyspark.sql.functions import col\n",
    "irisDFZeroIndex = irisDF.select('features',(col('label') -1).alias('label'))\n",
    "irisDFZeroIndex.show(5)"
   ]
  },
  {
   "cell_type": "code",
   "execution_count": 38,
   "metadata": {
    "collapsed": false
   },
   "outputs": [
    {
     "data": {
      "text/plain": [
       "[Row(features=DenseVector([-0.5556, 0.25]), label=0.0),\n",
       " Row(features=DenseVector([-0.6667, -0.1667]), label=0.0),\n",
       " Row(features=DenseVector([-0.7778, 0.0]), label=0.0),\n",
       " Row(features=DenseVector([-0.8333, -0.0833]), label=0.0),\n",
       " Row(features=DenseVector([-0.6111, 0.3333]), label=0.0)]"
      ]
     },
     "execution_count": 38,
     "metadata": {},
     "output_type": "execute_result"
    }
   ],
   "source": [
    "from pyspark.sql.functions import udf\n",
    "from pyspark.ml.linalg import Vectors, VectorUDT\n",
    "\n",
    "firstTwoFeatures = udf(lambda sv: Vectors.dense(sv.toArray()[:2]), VectorUDT())\n",
    "irisTwoFeatures = irisDFZeroIndex.select(firstTwoFeatures('features').alias('features'), 'label').cache()\n",
    "irisTwoFeatures.take(5)"
   ]
  },
  {
   "cell_type": "code",
   "execution_count": 39,
   "metadata": {
    "collapsed": false
   },
   "outputs": [
    {
     "data": {
      "text/plain": [
       "[Row(features=DenseVector([-0.5556, 0.25]), label=0.0),\n",
       " Row(features=DenseVector([-0.6667, -0.1667]), label=0.0),\n",
       " Row(features=DenseVector([-0.7778, 0.0]), label=0.0),\n",
       " Row(features=DenseVector([-0.8333, -0.0833]), label=0.0),\n",
       " Row(features=DenseVector([-0.6111, 0.3333]), label=0.0)]"
      ]
     },
     "execution_count": 39,
     "metadata": {},
     "output_type": "execute_result"
    }
   ],
   "source": [
    "repr(irisTwoFeatures.first()[0])\n",
    "irisTwoFeatures.take(5)"
   ]
  },
  {
   "cell_type": "code",
   "execution_count": 40,
   "metadata": {
    "collapsed": true
   },
   "outputs": [],
   "source": [
    "import uuid\n",
    "if 'parqUUID' not in locals():\n",
    "    parqUUID = uuid.uuid1()\n",
    "irisTwoFeatures.write.mode('overwrite').parquet('/tmp/{0}/irisTwoFeatures.parquet'.format(parqUUID))"
   ]
  },
  {
   "cell_type": "code",
   "execution_count": 31,
   "metadata": {
    "collapsed": true
   },
   "outputs": [
    {
     "ename": "NameError",
     "evalue": "name 'dbutils' is not defined",
     "output_type": "error",
     "traceback": [
      "\u001b[0;31m---------------------------------------------------------------------------\u001b[0m",
      "\u001b[0;31mNameError\u001b[0m                                 Traceback (most recent call last)",
      "\u001b[0;32m<ipython-input-31-0470b06ee303>\u001b[0m in \u001b[0;36m<module>\u001b[0;34m()\u001b[0m\n\u001b[0;32m----> 1\u001b[0;31m \u001b[0mdbutils\u001b[0m\u001b[0;34m.\u001b[0m\u001b[0mfs\u001b[0m\u001b[0;34m.\u001b[0m\u001b[0mls\u001b[0m\u001b[0;34m(\u001b[0m\u001b[0;34m'/tmp/{0}/irisTwoFeatures.parquet'\u001b[0m\u001b[0;34m.\u001b[0m\u001b[0mformat\u001b[0m\u001b[0;34m(\u001b[0m\u001b[0mparqUUID\u001b[0m\u001b[0;34m)\u001b[0m\u001b[0;34m)\u001b[0m\u001b[0;34m.\u001b[0m\u001b[0mtake\u001b[0m\u001b[0;34m(\u001b[0m\u001b[0;36m5\u001b[0m\u001b[0;34m)\u001b[0m\u001b[0;34m\u001b[0m\u001b[0m\n\u001b[0m",
      "\u001b[0;31mNameError\u001b[0m: name 'dbutils' is not defined"
     ]
    }
   ],
   "source": [
    "dbutils.fs.ls('/tmp/{0}/irisTwoFeatures.parquet'.format(parqUUID)).take(5)"
   ]
  },
  {
   "cell_type": "code",
   "execution_count": 41,
   "metadata": {
    "collapsed": true
   },
   "outputs": [],
   "source": [
    "irisDFZeroIndex.write.mode('overwrite').parquet('/tmp/{0}/irisFourFeatures.parquet'.format(parqUUID))"
   ]
  },
  {
   "cell_type": "code",
   "execution_count": 42,
   "metadata": {
    "collapsed": false
   },
   "outputs": [
    {
     "ename": "NameError",
     "evalue": "name 'clusters' is not defined",
     "output_type": "error",
     "traceback": [
      "\u001b[0;31m---------------------------------------------------------------------------\u001b[0m",
      "\u001b[0;31mNameError\u001b[0m                                 Traceback (most recent call last)",
      "\u001b[0;32m<ipython-input-42-f40096bc98dc>\u001b[0m in \u001b[0;36m<module>\u001b[0;34m()\u001b[0m\n\u001b[1;32m      8\u001b[0m \u001b[0mcenters\u001b[0m \u001b[0;34m=\u001b[0m \u001b[0mmodel\u001b[0m\u001b[0;34m.\u001b[0m\u001b[0mclusterCenters\u001b[0m\u001b[0;34m(\u001b[0m\u001b[0;34m)\u001b[0m\u001b[0;34m\u001b[0m\u001b[0m\n\u001b[1;32m      9\u001b[0m \u001b[0mtransformed\u001b[0m \u001b[0;34m=\u001b[0m \u001b[0mmodel\u001b[0m\u001b[0;34m.\u001b[0m\u001b[0mtransform\u001b[0m\u001b[0;34m(\u001b[0m\u001b[0mirisTwoFeatures\u001b[0m\u001b[0;34m)\u001b[0m\u001b[0;34m\u001b[0m\u001b[0m\n\u001b[0;32m---> 10\u001b[0;31m \u001b[0;32mprint\u001b[0m \u001b[0mclusters\u001b[0m\u001b[0;34m\u001b[0m\u001b[0m\n\u001b[0m",
      "\u001b[0;31mNameError\u001b[0m: name 'clusters' is not defined"
     ]
    }
   ],
   "source": [
    "from pyspark.ml.clustering import KMeans\n",
    "kmeans = (KMeans()\n",
    "         .setK(3)\n",
    "         .setSeed(5)\n",
    "         .setMaxIter(20)\n",
    "         .setInitSteps(1))\n",
    "model = kmeans.fit(irisTwoFeatures)\n",
    "centers = model.clusterCenters()\n",
    "transformed = model.transform(irisTwoFeatures)"
   ]
  },
  {
   "cell_type": "code",
   "execution_count": 43,
   "metadata": {
    "collapsed": false
   },
   "outputs": [
    {
     "name": "stdout",
     "output_type": "stream",
     "text": [
      "[array([ 0.35115296, -0.10691828]), array([-0.60204082,  0.20068028]), array([-0.21875006, -0.4670139 ])]\n"
     ]
    }
   ],
   "source": [
    "print centers"
   ]
  },
  {
   "cell_type": "code",
   "execution_count": 44,
   "metadata": {
    "collapsed": false
   },
   "outputs": [
    {
     "name": "stdout",
     "output_type": "stream",
     "text": [
      "+--------------------+-----+----------+\n",
      "|            features|label|prediction|\n",
      "+--------------------+-----+----------+\n",
      "|    [-0.555556,0.25]|  0.0|         1|\n",
      "|[-0.666667,-0.166...|  0.0|         1|\n",
      "|     [-0.777778,0.0]|  0.0|         1|\n",
      "|[-0.833333,-0.083...|  0.0|         1|\n",
      "|[-0.611111,0.333333]|  0.0|         1|\n",
      "|[-0.388889,0.583333]|  0.0|         1|\n",
      "|[-0.833333,0.166667]|  0.0|         1|\n",
      "|[-0.611111,0.166667]|  0.0|         1|\n",
      "|   [-0.944444,-0.25]|  0.0|         1|\n",
      "|[-0.666667,-0.083...|  0.0|         1|\n",
      "|[-0.388889,0.416667]|  0.0|         1|\n",
      "|[-0.722222,0.166667]|  0.0|         1|\n",
      "|[-0.722222,-0.166...|  0.0|         1|\n",
      "|    [-1.0,-0.166667]|  0.0|         1|\n",
      "|[-0.166667,0.666667]|  0.0|         1|\n",
      "|     [-0.222222,1.0]|  0.0|         1|\n",
      "|[-0.388889,0.583333]|  0.0|         1|\n",
      "|    [-0.555556,0.25]|  0.0|         1|\n",
      "|     [-0.222222,0.5]|  0.0|         1|\n",
      "|     [-0.555556,0.5]|  0.0|         1|\n",
      "+--------------------+-----+----------+\n",
      "only showing top 20 rows\n",
      "\n"
     ]
    }
   ],
   "source": [
    "transformed.show(20)"
   ]
  },
  {
   "cell_type": "code",
   "execution_count": 45,
   "metadata": {
    "collapsed": true
   },
   "outputs": [],
   "source": [
    "modelCenters = []\n",
    "iterations = [0,2,4,7,10,20]\n",
    "for i in iterations:\n",
    "    kmeans = KMeans(k=3,seed=5, maxIter=i, initSteps=1)\n",
    "    model = kmeans.fit(irisTwoFeatures)\n",
    "    modelCenters.append(model.clusterCenters())"
   ]
  },
  {
   "cell_type": "code",
   "execution_count": 46,
   "metadata": {
    "collapsed": true
   },
   "outputs": [],
   "source": [
    "import matplotlib.pyplot as plt\n",
    "import matplotlib.cm as cm\n",
    "import numpy as np"
   ]
  },
  {
   "cell_type": "code",
   "execution_count": null,
   "metadata": {
    "collapsed": true
   },
   "outputs": [],
   "source": []
  }
 ],
 "metadata": {
  "kernelspec": {
   "display_name": "Python 2",
   "language": "python",
   "name": "python2"
  },
  "language_info": {
   "codemirror_mode": {
    "name": "ipython",
    "version": 2
   },
   "file_extension": ".py",
   "mimetype": "text/x-python",
   "name": "python",
   "nbconvert_exporter": "python",
   "pygments_lexer": "ipython2",
   "version": "2.7.12"
  }
 },
 "nbformat": 4,
 "nbformat_minor": 2
}
