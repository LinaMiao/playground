{
 "cells": [
  {
   "cell_type": "code",
   "execution_count": 1,
   "metadata": {
    "collapsed": false,
    "deletable": true,
    "editable": true
   },
   "outputs": [],
   "source": [
    "import findspark\n",
    "findspark.init()\n",
    "import pyspark\n",
    "sc = pyspark.SparkContext('local[*]')"
   ]
  },
  {
   "cell_type": "code",
   "execution_count": 6,
   "metadata": {
    "collapsed": true
   },
   "outputs": [],
   "source": [
    "from pyspark.sql import SQLContext\n",
    "sqlContext = SQLContext(sc)"
   ]
  },
  {
   "cell_type": "code",
   "execution_count": 17,
   "metadata": {
    "collapsed": false,
    "deletable": true,
    "editable": true,
    "scrolled": true
   },
   "outputs": [],
   "source": [
    "from collections import namedtuple\n",
    "\n",
    "Person = namedtuple('employee',['name','age','address'])\n",
    "Address = namedtuple('address', ['city','country'])\n",
    "\n",
    "row1 = Person('Bob', 35, Address('London','UK'))\n",
    "row2 = Person('Susan', 42, Address('Amsterdam','NL'))\n",
    "row3 = Person('Sara', 29, Address('Boulder','USA'))\n",
    "\n",
    "people = sqlContext.createDataFrame([row1, row2, row3])\n"
   ]
  },
  {
   "cell_type": "code",
   "execution_count": 18,
   "metadata": {
    "collapsed": false
   },
   "outputs": [
    {
     "name": "stdout",
     "output_type": "stream",
     "text": [
      "+-----+---+--------------+\n",
      "| name|age|       address|\n",
      "+-----+---+--------------+\n",
      "|  Bob| 35|   [London,UK]|\n",
      "|Susan| 42|[Amsterdam,NL]|\n",
      "+-----+---+--------------+\n",
      "\n"
     ]
    }
   ],
   "source": [
    "people.where(people['age']>30).show()"
   ]
  },
  {
   "cell_type": "code",
   "execution_count": 27,
   "metadata": {
    "collapsed": true
   },
   "outputs": [],
   "source": [
    "import xml.etree.ElementTree as ET\n",
    "from xml.etree.ElementTree import ParseError\n",
    "from pyspark.sql import Row\n",
    "\n",
    "def parse_xml_to_dict(xmlString):\n",
    "    data = {'title':None, 'redirect_title':None, 'timestamp':None, \"last_contributor_username\": None, \"text\":None}\n",
    "    \n",
    "    try:\n",
    "        root = ET.fromstring(xmlString.encode('utf-8'))\n",
    "        title = root.find('title')\n",
    "        if title is not None:\n",
    "            data['title'] = title.text\n",
    "        redirect = root.find('redirect')\n",
    "        if redirect is not None:\n",
    "            data['redirect_title'] = redirect.attrib['title'] \n",
    "        revision = root.find(\"revision\")\n",
    "        if revision is not None:\n",
    "            timestamp = revision.find(\"timestamp\")\n",
    "            data[\"timestamp\"] = timestamp.text\n",
    "        contributor = revision.find(\"contributor\")\n",
    "        if contributor is not None:\n",
    "            username = contributor.find(\"username\")\n",
    "        if username is not None:\n",
    "            data[\"last_contributor_username\"] = username.text\n",
    "        text = revision.find(\"text\")\n",
    "        \n",
    "        if text is not None and text.text is not None:\n",
    "            data[\"text\"] = text.text.replace(\"\\\\n\", \" \")\n",
    "    except ParseError:\n",
    "        data['title'] = '<PARSE ERROR>'\n",
    "\n",
    "    return data #Row(**dict)"
   ]
  },
  {
   "cell_type": "code",
   "execution_count": 28,
   "metadata": {
    "collapsed": false
   },
   "outputs": [],
   "source": [
    "import codecs\n",
    "import json\n",
    "from xml.etree.ElementTree import ParseError\n",
    "\n",
    "wikiData = codecs.open('/Users/linamiao/Downloads/enwiki-20170320-stub-articles1.xml', 'r', 'utf-8')\n",
    "jsonData = codecs.open('/Users/linamiao/Downloads/allpages.json', 'w', 'utf-8')\n",
    "\n",
    "pageData = []\n",
    "articleCount = 0\n",
    "pageCount = 0\n",
    "pageStart = 0\n",
    "\n",
    "for i, line in enumerate(wikiData):\n",
    "    #if i > 10000:\n",
    "    #    break\n",
    "\n",
    "    if '<page>' in line:\n",
    "        pageCount += 1\n",
    "\n",
    "        if pageCount > 1:\n",
    "            print 'unexpected to have pageCount > 1'\n",
    "        else:\n",
    "            articleCount += 1\n",
    "            pageStart = line.index('<page>')\n",
    "\n",
    "    if pageCount > 0:\n",
    "        pageData.append(line[pageStart:])\n",
    "\n",
    "    if '</page>' in line:\n",
    "        pageCount -= 1\n",
    "\n",
    "        if pageCount == 0:\n",
    "            try:\n",
    "                fromxml = parse_xml_to_dict(u'\\n'.join(pageData))\n",
    "            except ParseError:\n",
    "                print u'\\n'.join(pageData)\n",
    "                break\n",
    "\n",
    "            json.dump(fromxml, jsonData)\n",
    "            jsonData.write('\\n')\n",
    "            pageData = []\n",
    "\n",
    "jsonData.close()\n",
    "wikiData.close()"
   ]
  },
  {
   "cell_type": "code",
   "execution_count": 29,
   "metadata": {
    "collapsed": true
   },
   "outputs": [],
   "source": [
    "df = sqlContext.read.json(\"/Users/linamiao/Downloads/allpages.json\")\n",
    "df.write.parquet(\"/Users/linamiao/Downloads/allpages.parquet\")\n",
    "df2 = sqlContext.read.parquet(\"/Users/linamiao/Downloads/allpages.parquet\")\n",
    "dfOne = df2.sample(False, .01, 2718).coalesce(24)\n",
    "dfOne.write.parquet('/Users/linamiao/Downloads/onepercent.parquet')\n",
    "dfSmall = df2.sample(False, .0005, 2718).coalesce(8)\n",
    "dfSmall.write.parquet(\"/Users/linamiao/Downloads/smallwiki.parquet\")"
   ]
  },
  {
   "cell_type": "code",
   "execution_count": null,
   "metadata": {
    "collapsed": true
   },
   "outputs": [],
   "source": []
  }
 ],
 "metadata": {
  "kernelspec": {
   "display_name": "Python 2",
   "language": "python",
   "name": "python2"
  },
  "language_info": {
   "codemirror_mode": {
    "name": "ipython",
    "version": 2
   },
   "file_extension": ".py",
   "mimetype": "text/x-python",
   "name": "python",
   "nbconvert_exporter": "python",
   "pygments_lexer": "ipython2",
   "version": "2.7.12"
  }
 },
 "nbformat": 4,
 "nbformat_minor": 2
}
