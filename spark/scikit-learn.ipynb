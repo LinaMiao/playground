{
 "cells": [
  {
   "cell_type": "code",
   "execution_count": 9,
   "metadata": {
    "collapsed": false
   },
   "outputs": [],
   "source": [
    "import findspark\n",
    "findspark.init()\n",
    "import pyspark\n",
    "sc = pyspark.SparkContext('local[*]')\n",
    "from pyspark.sql import SQLContext\n",
    "sqlContext = SQLContext(sc)"
   ]
  },
  {
   "cell_type": "code",
   "execution_count": 3,
   "metadata": {
    "collapsed": false
   },
   "outputs": [],
   "source": [
    "import numpy as np\n",
    "from sklearn import datasets"
   ]
  },
  {
   "cell_type": "code",
   "execution_count": 4,
   "metadata": {
    "collapsed": false
   },
   "outputs": [],
   "source": [
    "iris = datasets.load_iris()\n",
    "size = len(iris.target)\n",
    "indices = np.random.permutation(size)\n",
    "\n",
    "cutoff = int(size * .30)\n",
    "\n",
    "testX = iris.data[indices[0:cutoff],:]\n",
    "trainX = iris.data[indices[cutoff:],:]\n",
    "testY = iris.target[indices[0:cutoff]]\n",
    "trainY = iris.target[indices[cutoff:]]"
   ]
  },
  {
   "cell_type": "code",
   "execution_count": 5,
   "metadata": {
    "collapsed": false
   },
   "outputs": [
    {
     "name": "stdout",
     "output_type": "stream",
     "text": [
      "0.977777777778\n"
     ]
    }
   ],
   "source": [
    "from sklearn.neighbors import KNeighborsClassifier\n",
    "\n",
    "knn = KNeighborsClassifier()\n",
    "knn.fit(trainX, trainY)\n",
    "\n",
    "predictions = knn.predict(testX)\n",
    "\n",
    "print sum(predictions == testY) / float(len(testY))"
   ]
  },
  {
   "cell_type": "code",
   "execution_count": 6,
   "metadata": {
    "collapsed": true
   },
   "outputs": [],
   "source": [
    "from sklearn.cross_validation import train_test_split\n",
    "\n",
    "def runNearestNeighbors(k):\n",
    "    irisData = datasets.load_iris()\n",
    "    \n",
    "    # Split into train and test using sklearn.cross_validation.train_test_split\n",
    "    yTrain, yTest, XTrain, XTest = train_test_split(irisData.target, \n",
    "                                                    irisData.data)\n",
    "    \n",
    "    # Build the model\n",
    "    knn = KNeighborsClassifier(n_neighbors=k)\n",
    "    knn.fit(XTrain, yTrain)\n",
    "    \n",
    "    # Calculate predictions and accuracy\n",
    "    predictions = knn.predict(XTest)\n",
    "    accuracy = (predictions == yTest).sum() / float(len(yTest))\n",
    "    \n",
    "    return (k, accuracy)   "
   ]
  },
  {
   "cell_type": "code",
   "execution_count": 11,
   "metadata": {
    "collapsed": false
   },
   "outputs": [
    {
     "name": "stdout",
     "output_type": "stream",
     "text": [
      "(1, 0.94736842105263153)\n",
      "(2, 0.97368421052631582)\n",
      "(3, 0.97368421052631582)\n",
      "(4, 0.97368421052631582)\n",
      "(5, 0.94736842105263153)\n",
      "(6, 0.97368421052631582)\n",
      "(7, 0.94736842105263153)\n",
      "(8, 0.94736842105263153)\n",
      "(9, 1.0)\n",
      "(10, 0.97368421052631582)\n"
     ]
    }
   ],
   "source": [
    "k = sc.parallelize(xrange(1,11))\n",
    "results = k.map(runNearestNeighbors)\n",
    "print '\\n'.join(map(str, results.collect()))"
   ]
  },
  {
   "cell_type": "code",
   "execution_count": 12,
   "metadata": {
    "collapsed": true
   },
   "outputs": [],
   "source": [
    "irisBroadcast = sc.broadcast(iris)"
   ]
  },
  {
   "cell_type": "code",
   "execution_count": 13,
   "metadata": {
    "collapsed": true
   },
   "outputs": [
    {
     "name": "stdout",
     "output_type": "stream",
     "text": [
      "(1, 0.94736842105263153)\n",
      "(2, 0.97368421052631582)\n",
      "(3, 0.97368421052631582)\n",
      "(4, 0.97368421052631582)\n",
      "(5, 0.94736842105263153)\n",
      "(6, 0.97368421052631582)\n",
      "(7, 0.94736842105263153)\n",
      "(8, 0.94736842105263153)\n",
      "(9, 1.0)\n",
      "(10, 0.97368421052631582)\n"
     ]
    }
   ],
   "source": [
    "def runNearestNeighborsBroadcast(k):\n",
    "    # Using the data in the irisBroadcast variable split into train and test using\n",
    "    # sklearn.cross_validation.train_test_split\n",
    "    yTrain, yTest, XTrain, XTest = train_test_split(irisBroadcast.value.target,\n",
    "                                                    irisBroadcast.value.data)\n",
    "    \n",
    "    # Build the model\n",
    "    knn = KNeighborsClassifier(n_neighbors=k)\n",
    "    knn.fit(XTrain, yTrain)\n",
    "    \n",
    "    # Calculate predictions and accuracy\n",
    "    predictions = knn.predict(XTest)\n",
    "    accuracy = (predictions == yTest).sum() / float(len(yTest))\n",
    "    \n",
    "    return (k, accuracy) \n",
    "\n",
    "k = sc.parallelize(xrange(1, 11))\n",
    "results = k.map(runNearestNeighborsBroadcast)\n",
    "print '\\n'.join(map(str, results.collect()))"
   ]
  },
  {
   "cell_type": "code",
   "execution_count": 16,
   "metadata": {
    "collapsed": false
   },
   "outputs": [
    {
     "name": "stdout",
     "output_type": "stream",
     "text": [
      "[(array([ 15,  16,  17,  18,  19,  20,  21,  22,  23,  24,  25,  26,  27,\n",
      "        28,  29,  30,  31,  32,  33,  34,  35,  36,  37,  38,  39,  40,\n",
      "        41,  42,  43,  44,  45,  46,  47,  48,  49,  50,  51,  52,  53,\n",
      "        54,  55,  56,  57,  58,  59,  60,  61,  62,  63,  64,  65,  66,\n",
      "        67,  68,  69,  70,  71,  72,  73,  74,  75,  76,  77,  78,  79,\n",
      "        80,  81,  82,  83,  84,  85,  86,  87,  88,  89,  90,  91,  92,\n",
      "        93,  94,  95,  96,  97,  98,  99, 100, 101, 102, 103, 104, 105,\n",
      "       106, 107, 108, 109, 110, 111, 112, 113, 114, 115, 116, 117, 118,\n",
      "       119, 120, 121, 122, 123, 124, 125, 126, 127, 128, 129, 130, 131,\n",
      "       132, 133, 134, 135, 136, 137, 138, 139, 140, 141, 142, 143, 144,\n",
      "       145, 146, 147, 148, 149]), array([ 0,  1,  2,  3,  4,  5,  6,  7,  8,  9, 10, 11, 12, 13, 14])), (array([  0,   1,   2,   3,   4,   5,   6,   7,   8,   9,  10,  11,  12,\n",
      "        13,  14,  30,  31,  32,  33,  34,  35,  36,  37,  38,  39,  40,\n",
      "        41,  42,  43,  44,  45,  46,  47,  48,  49,  50,  51,  52,  53,\n",
      "        54,  55,  56,  57,  58,  59,  60,  61,  62,  63,  64,  65,  66,\n",
      "        67,  68,  69,  70,  71,  72,  73,  74,  75,  76,  77,  78,  79,\n",
      "        80,  81,  82,  83,  84,  85,  86,  87,  88,  89,  90,  91,  92,\n",
      "        93,  94,  95,  96,  97,  98,  99, 100, 101, 102, 103, 104, 105,\n",
      "       106, 107, 108, 109, 110, 111, 112, 113, 114, 115, 116, 117, 118,\n",
      "       119, 120, 121, 122, 123, 124, 125, 126, 127, 128, 129, 130, 131,\n",
      "       132, 133, 134, 135, 136, 137, 138, 139, 140, 141, 142, 143, 144,\n",
      "       145, 146, 147, 148, 149]), array([15, 16, 17, 18, 19, 20, 21, 22, 23, 24, 25, 26, 27, 28, 29]))]\n"
     ]
    }
   ],
   "source": [
    "from sklearn.cross_validation import KFold\n",
    "\n",
    "kf = KFold(size, n_folds=10)\n",
    "folds = sc.parallelize(kf)\n",
    "print folds.take(2)"
   ]
  },
  {
   "cell_type": "code",
   "execution_count": 17,
   "metadata": {
    "collapsed": false
   },
   "outputs": [
    {
     "name": "stdout",
     "output_type": "stream",
     "text": [
      "correct / total\n",
      "[15 15]\n",
      "[15 15]\n",
      "[15 15]\n",
      "[15 15]\n",
      "[12 15]\n",
      "[13 15]\n",
      "[15 15]\n",
      "[13 15]\n",
      "[12 15]\n",
      "[15 15]\n",
      "0.933333333333\n"
     ]
    }
   ],
   "source": [
    "import numpy as np\n",
    "def runNearestNeighborsWithFolds((trainIndex, testIndex)):\n",
    "    # Assign training and test sets from irisBroadcast using trainIndex and testIndex\n",
    "    XTrain = irisBroadcast.value.data[trainIndex]\n",
    "    yTrain = irisBroadcast.value.target[trainIndex]\n",
    "    XTest = irisBroadcast.value.data[testIndex]\n",
    "    yTest = irisBroadcast.value.target[testIndex]\n",
    "    \n",
    "    # Build the model\n",
    "    knn = KNeighborsClassifier(n_neighbors=5)\n",
    "    knn.fit(XTrain, yTrain)\n",
    "    \n",
    "    # Calculate predictions\n",
    "    predictions = knn.predict(XTest)\n",
    "    \n",
    "    # Compute the number of correct predictions and total predictions\n",
    "    correct = (predictions == yTest).sum() \n",
    "    total = len(testIndex)\n",
    "    \n",
    "    # Return an np.array of the number of correct predictions and total predictions\n",
    "    return np.array([correct, total])\n",
    "\n",
    "foldResults = folds.map(runNearestNeighborsWithFolds)\n",
    "print 'correct / total\\n' + '\\n'.join(map(str, foldResults.collect()))\n",
    "\n",
    "correct, total = foldResults.sum()\n",
    "print correct / float(total)"
   ]
  },
  {
   "cell_type": "code",
   "execution_count": 19,
   "metadata": {
    "collapsed": false
   },
   "outputs": [
    {
     "name": "stdout",
     "output_type": "stream",
     "text": [
      "[(0, array([ 5.1,  3.5,  1.4,  0.2])), (0, array([ 4.9,  3. ,  1.4,  0.2]))] \n",
      "\n",
      "[37, 37, 37, 39]\n",
      "\n",
      "[[0, 0, 0, 0, 0, 0, 0, 0, 0, 0, 0, 0, 0, 0, 0, 0, 0, 0, 0, 0, 0, 0, 0, 0, 0, 0, 0, 0, 0, 0, 0, 0, 0, 0, 0, 0, 0], [0, 0, 0, 0, 0, 0, 0, 0, 0, 0, 0, 0, 0, 1, 1, 1, 1, 1, 1, 1, 1, 1, 1, 1, 1, 1, 1, 1, 1, 1, 1, 1, 1, 1, 1, 1, 1], [1, 1, 1, 1, 1, 1, 1, 1, 1, 1, 1, 1, 1, 1, 1, 1, 1, 1, 1, 1, 1, 1, 1, 1, 1, 1, 2, 2, 2, 2, 2, 2, 2, 2, 2, 2, 2], [2, 2, 2, 2, 2, 2, 2, 2, 2, 2, 2, 2, 2, 2, 2, 2, 2, 2, 2, 2, 2, 2, 2, 2, 2, 2, 2, 2, 2, 2, 2, 2, 2, 2, 2, 2, 2, 2, 2]]\n"
     ]
    }
   ],
   "source": [
    "irisData = sc.parallelize(zip(iris.target, iris.data), 4)\n",
    "print irisData.take(2), '\\n'\n",
    "\n",
    "# View the number of elements found in each of the eight partitions\n",
    "print (irisData\n",
    "       .mapPartitions(lambda x: [len(list(x))])\n",
    "       .collect())\n",
    "\n",
    "# View the target (y) stored by partition\n",
    "print '\\n', irisData.keys().glom().collect()"
   ]
  },
  {
   "cell_type": "code",
   "execution_count": null,
   "metadata": {
    "collapsed": true
   },
   "outputs": [],
   "source": []
  }
 ],
 "metadata": {
  "kernelspec": {
   "display_name": "Python 2",
   "language": "python",
   "name": "python2"
  },
  "language_info": {
   "codemirror_mode": {
    "name": "ipython",
    "version": 2
   },
   "file_extension": ".py",
   "mimetype": "text/x-python",
   "name": "python",
   "nbconvert_exporter": "python",
   "pygments_lexer": "ipython2",
   "version": "2.7.12"
  }
 },
 "nbformat": 4,
 "nbformat_minor": 2
}
