{
 "cells": [
  {
   "cell_type": "code",
   "execution_count": 1,
   "metadata": {},
   "outputs": [
    {
     "name": "stdout",
     "output_type": "stream",
     "text": [
      "['a', 'b', 'd']\n",
      "['c', 'e', 'a', 'd']\n",
      "['a', 'b']\n",
      "['c', 'a']\n"
     ]
    }
   ],
   "source": [
    "class User():\n",
    "    def __init__(self,name):\n",
    "        self.name = name\n",
    "        self.friends = []\n",
    "        \n",
    "    def addFriends(self,friends=[]):\n",
    "        #input friends are user instaces, in list\n",
    "        for friend in friends:\n",
    "            if friend not in self.friends:\n",
    "                self.friends.append(friend)\n",
    "            \n",
    "    def unFriends(self,friends=[]):\n",
    "        #input friends are user instaces, in list\n",
    "        for friend in friends:\n",
    "            try:\n",
    "                self.friends.remove(friend)\n",
    "            except:\n",
    "                pass\n",
    "        \n",
    "    def getFriends(self):\n",
    "        #get a list of user's friend, in format of name strings\n",
    "        return [friend.name for friend in self.friends]\n",
    "    def _getFriends(self):\n",
    "        #get a list of user's friend, in format of user instances\n",
    "        return [friend for friend in self.friends]\n",
    "    \n",
    "    def addPurchase(self,purchase):\n",
    "        #this is going to keep up to T recent records, with time stamp\n",
    "        self.purchases.append(phurchase)\n",
    "        \n",
    "    def getFriendWithinDegreeD(self,D):\n",
    "        #get list of friends within degree D, in format of name strings\n",
    "        D = max(D,1)\n",
    "        \n",
    "        level = {self:0}\n",
    "        visited = set([self])\n",
    "        q = [self]\n",
    "        while len(q) != 0:\n",
    "            u = q.pop(0)\n",
    "            v = u._getFriends()\n",
    "            for vi in v:\n",
    "                if vi not in visited:\n",
    "                    q.append(vi)\n",
    "                    level[vi] = level[u]+1\n",
    "                    visited.add(vi)\n",
    "            level_tmp = [l.name for l in level.keys()]\n",
    "            \n",
    "            degree = max(level.values())\n",
    "            if degree >= D:\n",
    "                break\n",
    "        friends = visited.copy()\n",
    "        friends.remove(self)\n",
    "        tmp = [friend.name for friend in friends]\n",
    "        return tmp\n",
    "\n",
    "\n",
    "a = User('a')\n",
    "b = User('b')\n",
    "c = User('c')\n",
    "d = User('d')\n",
    "e = User('e')\n",
    "a.addFriends([b,c])\n",
    "b.addFriends([a,c])\n",
    "c.addFriends([a,b,d])\n",
    "d.addFriends([c,e])\n",
    "\n",
    "print c.getFriends()\n",
    "print b.getFriendWithinDegreeD(3)\n",
    "c.unFriends([d])\n",
    "c.addFriends([a])\n",
    "print c.getFriends()\n",
    "print b.getFriendWithinDegreeD(3)\n"
   ]
  },
  {
   "cell_type": "code",
   "execution_count": 2,
   "metadata": {},
   "outputs": [],
   "source": [
    "class Purchases(object):\n",
    "    \n",
    "    def __init__(self,options={}):\n",
    "        #options: various options in a dict format\n",
    "        #example: options = {'purchaseLogging':'../log_output/recent_purchases.json', \n",
    "        #                    'anormaliesLogging': '../log_output/flagged_purchases.json',\n",
    "        #                    'degreeOfInterest': 1,\n",
    "        #                    'purchaseOfInterest': 10}\n",
    "        \n",
    "        if 'purchaseLogging' in options:\n",
    "            self.purchaseLogging = options['purchaseLogging']\n",
    "        else:\n",
    "            self.purchaseLogging = '../log_output/recent_purchases.json'\n",
    "        \n",
    "        if 'anormaliesLogging' in options:\n",
    "            self.anormaliesLogging = options['anormaliesLogging']\n",
    "        else:\n",
    "            self.anormaliesLogging = '../log_output/flagged_purchases.json'\n",
    "            \n",
    "        if 'degreeOfInterest' in options:\n",
    "            self.degreeOfInterest = options['degreeOfInterest']\n",
    "        else:\n",
    "            self.degreeOfInterest = 1\n",
    "            \n",
    "        if 'purchaseOfInterest' in options:\n",
    "            self.purchaseOfInterest = options['purchaseOfInterest']\n",
    "        else:\n",
    "            self.purchaseOfInterest = 10\n",
    "            \n",
    "        \n",
    "    def addPurchase(self,purchase):\n",
    "        #write purchase event into one file, each event is a dict format\n",
    "        with open(self.purchaseLogging,'a') as f:\n",
    "            f.write(str(purchase) + '\\n')\n",
    "            \n",
    "    def findPurchases(self,users):\n",
    "        #go into the purchase files, read from bottom up, find T records with id in users\n",
    "        from file_read_backwards import FileReadBackwards\n",
    "        from ast import literal_eval\n",
    "        \n",
    "        f = FileReadBackwards(self.purchaseLogging)\n",
    "        \n",
    "        T = max(2,self.purchaseOfInterest)\n",
    "        noRecords = 0\n",
    "        purchases = []\n",
    "        \n",
    "        for l in f:\n",
    "            if noRecords >= T:\n",
    "                break\n",
    "            ldict = literal_eval(l)   \n",
    "            if ldict['id'] in users:\n",
    "                purchases.append(ldict)\n",
    "                noRecords += 1\n",
    "        \n",
    "        return purchases\n",
    "                \n",
    "        \n",
    "    def meanPurchases(self,purchases):\n",
    "        #compute mean\n",
    "        amountSum = 0\n",
    "        noPurchases = len(purchases)\n",
    "        if noPurchases == 0:\n",
    "            return 0\n",
    "        for purchase in purchases:\n",
    "            amountSum += float(purchase['amount'])\n",
    "        return amountSum/noPurchases\n",
    "    \n",
    "    def stdPurchases(self,purchases):\n",
    "        #compute std\n",
    "        mean = self.meanPurchases(purchases)\n",
    "        squaredError = 0 \n",
    "        noPurchases = len(purchases)\n",
    "        if noPurchases == 0:\n",
    "            return 0\n",
    "        for purchase in purchases:\n",
    "            squaredError += (float(purchase['amount']) - mean)**2\n",
    "        return (squaredError/noPurchases)**(1/2)\n",
    "        \n",
    "    def detectAnormalies(self,purchase,usersList):\n",
    "        #for a specific purchase, detect if it is normal\n",
    "        user = [u for u in usersList if u.name == purchase['id']][0]\n",
    "        friends = user.getFriendWithinDegreeD(self.degreeOfInterest)\n",
    "        ReferencePurchases = self.findPurchases(friends)\n",
    "        mean = self.meanPurchases(ReferencePurchases)\n",
    "        std = self.stdPurchases(ReferencePurchases)\n",
    "        normalRange = [mean-3*std, mean+3*std]\n",
    "        print normalRange\n",
    "        if float(purchase['amount']) < normalRange[0]:\n",
    "            Flag = 1\n",
    "        elif float(purchase['amount']) > normalRange[1]:\n",
    "            Flag = 1\n",
    "        else:\n",
    "            Flag = 0\n",
    "        \n",
    "        #write into loggingFile\n",
    "        if Flag == 1:\n",
    "            with open(self.anormaliesLogging,'a') as f:\n",
    "                f.write(str(purchase) + '\\n')\n",
    "            print 'Find a purchase considered as an anomaly:\\n',purchase\n",
    "            print\n",
    "            \n",
    "        return Flag\n",
    "\n"
   ]
  },
  {
   "cell_type": "code",
   "execution_count": 3,
   "metadata": {},
   "outputs": [
    {
     "name": "stdout",
     "output_type": "stream",
     "text": [
      "initializing...\n",
      "<__main__.User instance at 0x11045ce18> <__main__.User instance at 0x11045cea8>\n",
      "streaming...\n",
      "[26.103333333333335, 32.10333333333334]\n",
      "Find a purchase considered as an anomaly:\n",
      "{'timestamp': '2017-06-13 11:33:02', 'amount': '1601.83', 'event_type': 'purchase', 'id': '2'}\n",
      "\n"
     ]
    }
   ],
   "source": [
    "def initialize(filename):\n",
    "    #read history transations from filename\n",
    "    options = {'purchaseLogging':'../log_output/recent_purchases.json',\n",
    "           'anormaliesLogging': '../log_output/flagged_purchases.json',\n",
    "           'degreeOfInterest': 1,\n",
    "           'purchaseOfInterest': 10}\n",
    "\n",
    "    with open(filename) as f:\n",
    "        l = f.readline()\n",
    "        ldict = literal_eval(l)\n",
    "        if 'D' in ldict:\n",
    "            options['degreeOfInterest'] = ldict['D']\n",
    "        if 'T' in ldict:\n",
    "            options['purchaseOfInterest'] = ldict['T']\n",
    "\n",
    "    \n",
    "    purchases = Purchases(options)   \n",
    "    \n",
    "    userList = []\n",
    "    userIdList = set([])\n",
    "    with open(filename) as f:\n",
    "        next(f)\n",
    "        for l in f:\n",
    "            ldict = literal_eval(l)\n",
    "            if ldict['event_type'] == 'purchase':\n",
    "                purchases.addPurchase(ldict)\n",
    "            if ldict['event_type'] == 'befriend':\n",
    "                userId1 = ldict['id1']\n",
    "                userId2 = ldict['id2']\n",
    "                if userId1 not in userIdList:\n",
    "                    user1 = User(userId1)\n",
    "                    userList.append(user1)\n",
    "                    userIdList.add(userId1)\n",
    "                if userId2 not in userIdList:\n",
    "                    user2 = User(userId2)\n",
    "                    userList.append(user2)\n",
    "                    userIdList.add(userId2)\n",
    "                user1.addFriends([user2])\n",
    "                user2.addFriends([user1])\n",
    "            if ldict['event_type'] == 'unfriend':\n",
    "                user1 = [u for u in userList\n",
    "                        if u.name == ldict['id1']][0]\n",
    "                user2 = [u for u in userList\n",
    "                        if u.name == ldict['id2']][0]\n",
    "                print user1,user2\n",
    "                user1.unFriends(['id2'])\n",
    "                user2.unFriends(['id1'])\n",
    "      \n",
    "    return purchases, userList, userIdList\n",
    "\n",
    "def stream(filename,purchases,userList,userIdList):\n",
    "    #streaming data, detect and log anormalies\n",
    "    with open(filename) as f:\n",
    "        l = f.readline()\n",
    "        ldict = literal_eval(l)\n",
    "        if ldict['event_type'] == 'purchase':\n",
    "            purchases.addPurchase(ldict)\n",
    "            flag = purchases.detectAnormalies(ldict,userList)\n",
    "\n",
    "        if ldict['event_type'] == 'befriend':\n",
    "            print 2\n",
    "            userId1 = ldict['id1']\n",
    "            userId2 = ldict['id2']\n",
    "            if userId1 not in userIdList:\n",
    "                user1 = user('userId1')\n",
    "                userList.append(user1)\n",
    "                userIdList.add(userId1)\n",
    "            if userId2 not in userIdList:\n",
    "                user2 = user('userId2')\n",
    "                userList.append(user2)\n",
    "                userIdList.add(userId2)\n",
    "            user1.addFriends([user2])\n",
    "            user2.addFriends([user1])\n",
    "        if ldict['event_type'] == 'unfriend':\n",
    "            print 3\n",
    "            user1 = [u for u in userList\n",
    "                    if u.name == ldict['id1']][0]\n",
    "            user2 = [u for u in userList\n",
    "                    if u.name == ldict['id2']][0]\n",
    "            print user1,user2\n",
    "            user1.unFriends(['id2'])\n",
    "            user2.unFriends(['id1'])\n",
    "        \n",
    "def main():\n",
    "        \n",
    "    DATADIR = '../log_input/'\n",
    "    OLDDATA = 'batch_log.json'\n",
    "    STREAMDATA = 'stream_log.json'\n",
    "    \n",
    "    userList = []\n",
    "    print \"initializing...\"\n",
    "    purchases, userList, userIdList = initialize(DATADIR+OLDDATA)\n",
    "    \n",
    "    print \"streaming...\"\n",
    "    stream(DATADIR+STREAMDATA,purchases,userList,userIdList)\n",
    "    \n",
    "from file_read_backwards import FileReadBackwards\n",
    "from ast import literal_eval\n",
    "    \n",
    "main()"
   ]
  },
  {
   "cell_type": "code",
   "execution_count": 6,
   "metadata": {},
   "outputs": [
    {
     "ename": "NameError",
     "evalue": "name 'e4' is not defined",
     "output_type": "error",
     "traceback": [
      "\u001b[0;31m---------------------------------------------------------------------------\u001b[0m",
      "\u001b[0;31mNameError\u001b[0m                                 Traceback (most recent call last)",
      "\u001b[0;32m<ipython-input-6-ab92df456034>\u001b[0m in \u001b[0;36m<module>\u001b[0;34m()\u001b[0m\n\u001b[1;32m      7\u001b[0m \u001b[0mp\u001b[0m \u001b[0;34m=\u001b[0m \u001b[0mPurchases\u001b[0m\u001b[0;34m(\u001b[0m\u001b[0moptions\u001b[0m\u001b[0;34m)\u001b[0m\u001b[0;34m\u001b[0m\u001b[0m\n\u001b[1;32m      8\u001b[0m \u001b[0me5\u001b[0m \u001b[0;34m=\u001b[0m \u001b[0;34m{\u001b[0m\u001b[0;34m\"event_type\"\u001b[0m\u001b[0;34m:\u001b[0m\u001b[0;34m\"purchase\"\u001b[0m\u001b[0;34m,\u001b[0m \u001b[0;34m\"timestamp\"\u001b[0m\u001b[0;34m:\u001b[0m\u001b[0;34m\"2017-06-13 11:33:01\"\u001b[0m\u001b[0;34m,\u001b[0m \u001b[0;34m\"id\"\u001b[0m\u001b[0;34m:\u001b[0m \u001b[0;34m\"c\"\u001b[0m\u001b[0;34m,\u001b[0m \u001b[0;34m\"amount\"\u001b[0m\u001b[0;34m:\u001b[0m \u001b[0;34m\"10.83\"\u001b[0m\u001b[0;34m}\u001b[0m\u001b[0;34m\u001b[0m\u001b[0m\n\u001b[0;32m----> 9\u001b[0;31m \u001b[0mp\u001b[0m\u001b[0;34m.\u001b[0m\u001b[0mdetectAnormalies\u001b[0m\u001b[0;34m(\u001b[0m\u001b[0me4\u001b[0m\u001b[0;34m,\u001b[0m\u001b[0;34m[\u001b[0m\u001b[0ma\u001b[0m\u001b[0;34m,\u001b[0m\u001b[0mb\u001b[0m\u001b[0;34m,\u001b[0m\u001b[0mc\u001b[0m\u001b[0;34m,\u001b[0m\u001b[0md\u001b[0m\u001b[0;34m]\u001b[0m\u001b[0;34m)\u001b[0m\u001b[0;34m\u001b[0m\u001b[0m\n\u001b[0m",
      "\u001b[0;31mNameError\u001b[0m: name 'e4' is not defined"
     ]
    }
   ],
   "source": [
    "#print p.meanPurchases(pp)\n",
    "#print p.stdPurchases(pp)\n",
    "options = {'purchaseLogging':'../log_output/recent_purchases.json',\n",
    "           'anormaliesLogging': '../log_output/flagged_purchases.json',\n",
    "           'degreeOfInterest': 1,\n",
    "           'purchaseOfInterest': 10}\n",
    "p = Purchases(options)\n",
    "e5 = {\"event_type\":\"purchase\", \"timestamp\":\"2017-06-13 11:33:01\", \"id\": \"c\", \"amount\": \"10.83\"}\n",
    "p.detectAnormalies(e4,[a,b,c,d])"
   ]
  },
  {
   "cell_type": "code",
   "execution_count": 118,
   "metadata": {},
   "outputs": [],
   "source": [
    "p.addPurchase(e5)"
   ]
  },
  {
   "cell_type": "code",
   "execution_count": 91,
   "metadata": {},
   "outputs": [
    {
     "data": {
      "text/plain": [
       "{'amount': '17.83',\n",
       " 'event_type': 'purchase',\n",
       " 'id': 'c',\n",
       " 'timestamp': '2017-06-13 11:33:01'}"
      ]
     },
     "execution_count": 91,
     "metadata": {},
     "output_type": "execute_result"
    }
   ],
   "source": [
    "e4"
   ]
  },
  {
   "cell_type": "code",
   "execution_count": 69,
   "metadata": {},
   "outputs": [
    {
     "data": {
      "text/plain": [
       "['b', 'a']"
      ]
     },
     "execution_count": 69,
     "metadata": {},
     "output_type": "execute_result"
    }
   ],
   "source": [
    "c.getFriendWithinDegreeD(2)"
   ]
  },
  {
   "cell_type": "code",
   "execution_count": 56,
   "metadata": {},
   "outputs": [
    {
     "name": "stdout",
     "output_type": "stream",
     "text": [
      "[{'timestamp': '2017-06-13 11:33:01', 'amount': '16.81', 'event_type': 'purchase', 'id': 'a'}, {'timestamp': '2017-06-13 11:33:01', 'amount': '16.83', 'event_type': 'purchase', 'id': 'b'}]\n"
     ]
    }
   ],
   "source": [
    "p = Purchases()\n",
    "purchaseLog = '../log_output/recent_purchases.json'\n",
    "anormaliesLog = '../log_output/flagged_purchases.json'\n",
    "e1 = {\"event_type\":\"purchase\", \"timestamp\":\"2017-06-13 11:33:01\", \"id\": \"a\", \"amount\": \"16.83\"}\n",
    "e2 = {\"event_type\":\"purchase\", \"timestamp\":\"2017-06-13 11:33:01\", \"id\": \"b\", \"amount\": \"16.83\"}\n",
    "e3 = {\"event_type\":\"purchase\", \"timestamp\":\"2017-06-13 11:33:01\", \"id\": \"a\", \"amount\": \"16.81\"}\n",
    "e4 = {\"event_type\":\"purchase\", \"timestamp\":\"2017-06-13 11:33:01\", \"id\": \"c\", \"amount\": \"17.83\"}\n",
    "\n",
    "p.addPurchase(e1,purchaseLog)\n",
    "p.addPurchase(e2,purchaseLog)\n",
    "p.addPurchase(e3,purchaseLog)\n",
    "p.addPurchase(e4,purchaseLog)\n",
    "\n",
    "\n",
    "pp = p.findPurchases(['a','b'],2,purchaseLog)\n",
    "print pp"
   ]
  },
  {
   "cell_type": "code",
   "execution_count": 101,
   "metadata": {},
   "outputs": [
    {
     "name": "stdout",
     "output_type": "stream",
     "text": [
      "1\n"
     ]
    }
   ],
   "source": [
    "if 'id' in e5:\n",
    "    print 1"
   ]
  },
  {
   "cell_type": "code",
   "execution_count": 103,
   "metadata": {},
   "outputs": [
    {
     "ename": "SyntaxError",
     "evalue": "can't assign to conditional expression (<ipython-input-103-41c935ec5384>, line 1)",
     "output_type": "error",
     "traceback": [
      "\u001b[0;36m  File \u001b[0;32m\"<ipython-input-103-41c935ec5384>\"\u001b[0;36m, line \u001b[0;32m1\u001b[0m\n\u001b[0;31m    id=1 if 'id' in e5 else id=2\u001b[0m\n\u001b[0;31mSyntaxError\u001b[0m\u001b[0;31m:\u001b[0m can't assign to conditional expression\n"
     ]
    }
   ],
   "source": [
    "id=1 if 'id' in e5 else id=2"
   ]
  },
  {
   "cell_type": "code",
   "execution_count": 104,
   "metadata": {
    "collapsed": true
   },
   "outputs": [],
   "source": [
    "id = (1,2)['id' in e5]"
   ]
  },
  {
   "cell_type": "code",
   "execution_count": 105,
   "metadata": {},
   "outputs": [
    {
     "data": {
      "text/plain": [
       "2"
      ]
     },
     "execution_count": 105,
     "metadata": {},
     "output_type": "execute_result"
    }
   ],
   "source": [
    "id"
   ]
  },
  {
   "cell_type": "code",
   "execution_count": 176,
   "metadata": {},
   "outputs": [
    {
     "name": "stdout",
     "output_type": "stream",
     "text": [
      "initializing...\n",
      "<__main__.User instance at 0x10a8de950> <__main__.User instance at 0x10a954e60>\n",
      "streaming...\n",
      "1\n",
      "[<__main__.User instance at 0x10a8de950>, <__main__.User instance at 0x10a9545f0>, <__main__.User instance at 0x10a954e60>]\n",
      "12\n"
     ]
    },
    {
     "ename": "SyntaxError",
     "evalue": "invalid syntax (<unknown>, line 1)",
     "output_type": "error",
     "traceback": [
      "\u001b[0;36m  File \u001b[0;32m\"<unknown>\"\u001b[0;36m, line \u001b[0;32m1\u001b[0m\n\u001b[0;31m    {'timestamp': '2017-06-13 11:33:01', 'amount': '16.83', 'event_type': 'purchase', 'id': ‘3’}\u001b[0m\n\u001b[0m                                                                                            ^\u001b[0m\n\u001b[0;31mSyntaxError\u001b[0m\u001b[0;31m:\u001b[0m invalid syntax\n"
     ]
    }
   ],
   "source": [
    "main()"
   ]
  },
  {
   "cell_type": "code",
   "execution_count": null,
   "metadata": {
    "collapsed": true
   },
   "outputs": [],
   "source": []
  }
 ],
 "metadata": {
  "kernelspec": {
   "display_name": "Python 2",
   "language": "python",
   "name": "python2"
  },
  "language_info": {
   "codemirror_mode": {
    "name": "ipython",
    "version": 2
   },
   "file_extension": ".py",
   "mimetype": "text/x-python",
   "name": "python",
   "nbconvert_exporter": "python",
   "pygments_lexer": "ipython2",
   "version": "2.7.12"
  }
 },
 "nbformat": 4,
 "nbformat_minor": 2
}
