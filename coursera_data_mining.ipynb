{
 "cells": [
  {
   "cell_type": "code",
   "execution_count": 35,
   "metadata": {
    "collapsed": true
   },
   "outputs": [],
   "source": [
    "import urllib2\n",
    "import json\n",
    "import pandas as pd"
   ]
  },
  {
   "cell_type": "code",
   "execution_count": 36,
   "metadata": {
    "collapsed": true
   },
   "outputs": [],
   "source": [
    "courses_response = urllib2.urlopen('https://api.coursera.org/api/catalog.v1/courses?fields=shortName,name,language&includes=universities,categories')\n",
    "courses_data = json.load(courses_response)\n",
    "courses_data = courses_data['elements']"
   ]
  },
  {
   "cell_type": "code",
   "execution_count": 37,
   "metadata": {
    "collapsed": false
   },
   "outputs": [
    {
     "data": {
      "text/plain": [
       "{u'id': 69,\n",
       " u'language': u'en',\n",
       " u'links': {u'categories': [3, 8], u'universities': [10]},\n",
       " u'name': u'Contraception: Choices, Culture and Consequences',\n",
       " u'shortName': u'contraception'}"
      ]
     },
     "execution_count": 37,
     "metadata": {},
     "output_type": "execute_result"
    }
   ],
   "source": [
    "courses_data[0]"
   ]
  },
  {
   "cell_type": "code",
   "execution_count": 38,
   "metadata": {
    "collapsed": true
   },
   "outputs": [],
   "source": [
    "universities_response = urllib2.urlopen('https://api.coursera.org/api/catalog.v1/universities?fields=name,locationCountry')\n",
    "universities_data = json.load(universities_response)\n",
    "universities_data = universities_data['elements']"
   ]
  },
  {
   "cell_type": "code",
   "execution_count": 39,
   "metadata": {
    "collapsed": false
   },
   "outputs": [
    {
     "data": {
      "text/plain": [
       "{u'id': 234,\n",
       " u'links': {},\n",
       " u'locationCountry': u'CN',\n",
       " u'name': u\"Xi'an Jiaotong University\",\n",
       " u'shortName': u'xjtu'}"
      ]
     },
     "execution_count": 39,
     "metadata": {},
     "output_type": "execute_result"
    }
   ],
   "source": [
    "universities_data[0]"
   ]
  },
  {
   "cell_type": "code",
   "execution_count": 40,
   "metadata": {
    "collapsed": true
   },
   "outputs": [],
   "source": [
    "categories_response = urllib2.urlopen('https://api.coursera.org/api/catalog.v1/categories')\n",
    "categories_data = json.load(categories_response)\n",
    "categories_data = categories_data['elements']"
   ]
  },
  {
   "cell_type": "code",
   "execution_count": 41,
   "metadata": {
    "collapsed": false
   },
   "outputs": [
    {
     "data": {
      "text/plain": [
       "{u'id': 5, u'links': {}, u'name': u'Mathematics', u'shortName': u'math'}"
      ]
     },
     "execution_count": 41,
     "metadata": {},
     "output_type": "execute_result"
    }
   ],
   "source": [
    "categories_data[0]"
   ]
  },
  {
   "cell_type": "code",
   "execution_count": 42,
   "metadata": {
    "collapsed": true
   },
   "outputs": [],
   "source": [
    "courses_df = pd.DataFrame()"
   ]
  },
  {
   "cell_type": "code",
   "execution_count": 43,
   "metadata": {
    "collapsed": true
   },
   "outputs": [],
   "source": [
    "courses_df['course_name'] = map(lambda course_data: course_data['name'], courses_data)\n",
    "courses_df['course_language'] = map(lambda course_data: course_data['language'], courses_data)\n",
    "courses_df['course_short_name'] = map(lambda course_data: course_data['shortName'], courses_data)\n",
    "courses_df['categories'] = map(lambda course_data: course_data['links']['categories'] if 'categories' in course_data['links'] else [], courses_data)\n",
    "courses_df['universities'] = map(lambda course_data: course_data['links']['universities'] if 'universities' in course_data['links'] else [], courses_data)"
   ]
  },
  {
   "cell_type": "code",
   "execution_count": 44,
   "metadata": {
    "collapsed": false
   },
   "outputs": [
    {
     "data": {
      "text/html": [
       "<div>\n",
       "<table border=\"1\" class=\"dataframe\">\n",
       "  <thead>\n",
       "    <tr style=\"text-align: right;\">\n",
       "      <th></th>\n",
       "      <th>course_name</th>\n",
       "      <th>course_language</th>\n",
       "      <th>course_short_name</th>\n",
       "      <th>categories</th>\n",
       "      <th>universities</th>\n",
       "    </tr>\n",
       "  </thead>\n",
       "  <tbody>\n",
       "    <tr>\n",
       "      <th>0</th>\n",
       "      <td>Contraception: Choices, Culture and Consequences</td>\n",
       "      <td>en</td>\n",
       "      <td>contraception</td>\n",
       "      <td>[3, 8]</td>\n",
       "      <td>[10]</td>\n",
       "    </tr>\n",
       "    <tr>\n",
       "      <th>1</th>\n",
       "      <td>Introduction to Computational Arts: Processing</td>\n",
       "      <td>en</td>\n",
       "      <td>compartsprocessing</td>\n",
       "      <td>[1, 4, 18, 22]</td>\n",
       "      <td>[117]</td>\n",
       "    </tr>\n",
       "    <tr>\n",
       "      <th>2</th>\n",
       "      <td>Introduction to Computing 计算概论A</td>\n",
       "      <td>zh-cn</td>\n",
       "      <td>pkuic</td>\n",
       "      <td>[1, 12]</td>\n",
       "      <td>[163]</td>\n",
       "    </tr>\n",
       "    <tr>\n",
       "      <th>3</th>\n",
       "      <td>Global Perspectives on Sexual and Reproductive...</td>\n",
       "      <td>en</td>\n",
       "      <td>globalsrhr</td>\n",
       "      <td>[3, 8, 20]</td>\n",
       "      <td>[199]</td>\n",
       "    </tr>\n",
       "    <tr>\n",
       "      <th>4</th>\n",
       "      <td>Writing II: Rhetorical Composing</td>\n",
       "      <td>en</td>\n",
       "      <td>writing2</td>\n",
       "      <td>[6, 14]</td>\n",
       "      <td>[28]</td>\n",
       "    </tr>\n",
       "  </tbody>\n",
       "</table>\n",
       "</div>"
      ],
      "text/plain": [
       "                                         course_name course_language  \\\n",
       "0   Contraception: Choices, Culture and Consequences              en   \n",
       "1     Introduction to Computational Arts: Processing              en   \n",
       "2                    Introduction to Computing 计算概论A           zh-cn   \n",
       "3  Global Perspectives on Sexual and Reproductive...              en   \n",
       "4                   Writing II: Rhetorical Composing              en   \n",
       "\n",
       "    course_short_name      categories universities  \n",
       "0       contraception          [3, 8]         [10]  \n",
       "1  compartsprocessing  [1, 4, 18, 22]        [117]  \n",
       "2               pkuic         [1, 12]        [163]  \n",
       "3          globalsrhr      [3, 8, 20]        [199]  \n",
       "4            writing2         [6, 14]         [28]  "
      ]
     },
     "execution_count": 44,
     "metadata": {},
     "output_type": "execute_result"
    }
   ],
   "source": [
    "courses_df.head()"
   ]
  },
  {
   "cell_type": "code",
   "execution_count": 45,
   "metadata": {
    "collapsed": true
   },
   "outputs": [],
   "source": [
    "universities_df = pd.DataFrame()\n",
    "universities_df['university_id'] = map(lambda university_data: university_data['id'], universities_data)\n",
    "universities_df['university_name'] = map(lambda university_data: university_data['name'], universities_data)\n",
    "universities_df['university_location_country'] = map(lambda university_data: university_data['locationCountry'], universities_data)"
   ]
  },
  {
   "cell_type": "code",
   "execution_count": 46,
   "metadata": {
    "collapsed": true
   },
   "outputs": [],
   "source": [
    "universities_df = universities_df.set_index('university_id')"
   ]
  },
  {
   "cell_type": "code",
   "execution_count": 47,
   "metadata": {
    "collapsed": false
   },
   "outputs": [
    {
     "data": {
      "text/html": [
       "<div>\n",
       "<table border=\"1\" class=\"dataframe\">\n",
       "  <thead>\n",
       "    <tr style=\"text-align: right;\">\n",
       "      <th></th>\n",
       "      <th>university_name</th>\n",
       "      <th>university_location_country</th>\n",
       "    </tr>\n",
       "    <tr>\n",
       "      <th>university_id</th>\n",
       "      <th></th>\n",
       "      <th></th>\n",
       "    </tr>\n",
       "  </thead>\n",
       "  <tbody>\n",
       "    <tr>\n",
       "      <th>234</th>\n",
       "      <td>Xi'an Jiaotong University</td>\n",
       "      <td>CN</td>\n",
       "    </tr>\n",
       "    <tr>\n",
       "      <th>276</th>\n",
       "      <td>National Research Tomsk State University</td>\n",
       "      <td>RU</td>\n",
       "    </tr>\n",
       "    <tr>\n",
       "      <th>120</th>\n",
       "      <td>University of New Mexico</td>\n",
       "      <td>US</td>\n",
       "    </tr>\n",
       "    <tr>\n",
       "      <th>10</th>\n",
       "      <td>University of California, San Francisco</td>\n",
       "      <td>US</td>\n",
       "    </tr>\n",
       "    <tr>\n",
       "      <th>56</th>\n",
       "      <td>University of California, Santa Cruz</td>\n",
       "      <td>US</td>\n",
       "    </tr>\n",
       "  </tbody>\n",
       "</table>\n",
       "</div>"
      ],
      "text/plain": [
       "                                        university_name  \\\n",
       "university_id                                             \n",
       "234                           Xi'an Jiaotong University   \n",
       "276            National Research Tomsk State University   \n",
       "120                            University of New Mexico   \n",
       "10              University of California, San Francisco   \n",
       "56                 University of California, Santa Cruz   \n",
       "\n",
       "              university_location_country  \n",
       "university_id                              \n",
       "234                                    CN  \n",
       "276                                    RU  \n",
       "120                                    US  \n",
       "10                                     US  \n",
       "56                                     US  "
      ]
     },
     "execution_count": 47,
     "metadata": {},
     "output_type": "execute_result"
    }
   ],
   "source": [
    "universities_df.head()"
   ]
  },
  {
   "cell_type": "code",
   "execution_count": 48,
   "metadata": {
    "collapsed": true
   },
   "outputs": [],
   "source": [
    "categories_df = pd.DataFrame()\n",
    "categories_df['category_id'] = map(lambda category_data: category_data['id'], categories_data)\n",
    "categories_df['category_name'] = map(lambda category_data: category_data['name'], categories_data)"
   ]
  },
  {
   "cell_type": "code",
   "execution_count": 49,
   "metadata": {
    "collapsed": true
   },
   "outputs": [],
   "source": [
    "categories_df = categories_df.set_index('category_id')"
   ]
  },
  {
   "cell_type": "code",
   "execution_count": 50,
   "metadata": {
    "collapsed": false
   },
   "outputs": [
    {
     "data": {
      "text/html": [
       "<div>\n",
       "<table border=\"1\" class=\"dataframe\">\n",
       "  <thead>\n",
       "    <tr style=\"text-align: right;\">\n",
       "      <th></th>\n",
       "      <th>category_name</th>\n",
       "    </tr>\n",
       "    <tr>\n",
       "      <th>category_id</th>\n",
       "      <th></th>\n",
       "    </tr>\n",
       "  </thead>\n",
       "  <tbody>\n",
       "    <tr>\n",
       "      <th>5</th>\n",
       "      <td>Mathematics</td>\n",
       "    </tr>\n",
       "    <tr>\n",
       "      <th>10</th>\n",
       "      <td>Biology &amp; Life Sciences</td>\n",
       "    </tr>\n",
       "    <tr>\n",
       "      <th>24</th>\n",
       "      <td>Chemistry</td>\n",
       "    </tr>\n",
       "    <tr>\n",
       "      <th>25</th>\n",
       "      <td>Energy &amp; Earth Sciences</td>\n",
       "    </tr>\n",
       "    <tr>\n",
       "      <th>14</th>\n",
       "      <td>Education</td>\n",
       "    </tr>\n",
       "  </tbody>\n",
       "</table>\n",
       "</div>"
      ],
      "text/plain": [
       "                       category_name\n",
       "category_id                         \n",
       "5                        Mathematics\n",
       "10           Biology & Life Sciences\n",
       "24                         Chemistry\n",
       "25           Energy & Earth Sciences\n",
       "14                         Education"
      ]
     },
     "execution_count": 50,
     "metadata": {},
     "output_type": "execute_result"
    }
   ],
   "source": [
    "categories_df.head()"
   ]
  },
  {
   "cell_type": "code",
   "execution_count": 52,
   "metadata": {
    "collapsed": false
   },
   "outputs": [
    {
     "data": {
      "text/plain": [
       "[u'Information, Tech & Design',\n",
       " u'Mathematics',\n",
       " u'Engineering',\n",
       " u'Statistics and Data Analysis']"
      ]
     },
     "execution_count": 52,
     "metadata": {},
     "output_type": "execute_result"
    }
   ],
   "source": [
    "def map_ids_names(ids_array, df, object_name):\n",
    "    names_array = []\n",
    "    for object_id in ids_array:\n",
    "        try:\n",
    "            names_array.append(df.loc[object_id][object_name])\n",
    "        except:\n",
    "            continue\n",
    "    return names_array\n",
    "\n",
    "map_ids_names([4,5,15,16], categories_df, 'category_name')"
   ]
  },
  {
   "cell_type": "code",
   "execution_count": 53,
   "metadata": {
    "collapsed": true
   },
   "outputs": [],
   "source": [
    "courses_df['categories_name'] = courses_df.apply(lambda row: map_ids_names(row['categories'], categories_df, 'category_name'), axis=1)\n",
    "courses_df['universities_name'] = courses_df.apply(lambda row: map_ids_names(row['universities'], universities_df, 'university_name'), axis=1)"
   ]
  },
  {
   "cell_type": "code",
   "execution_count": 54,
   "metadata": {
    "collapsed": true
   },
   "outputs": [],
   "source": [
    "courses_df['course_url'] = 'https://www.coursera.org/course/' + courses_df['course_short_name']"
   ]
  },
  {
   "cell_type": "code",
   "execution_count": 55,
   "metadata": {
    "collapsed": false
   },
   "outputs": [
    {
     "data": {
      "text/html": [
       "<div>\n",
       "<table border=\"1\" class=\"dataframe\">\n",
       "  <thead>\n",
       "    <tr style=\"text-align: right;\">\n",
       "      <th></th>\n",
       "      <th>course_name</th>\n",
       "      <th>course_language</th>\n",
       "      <th>course_short_name</th>\n",
       "      <th>categories</th>\n",
       "      <th>universities</th>\n",
       "      <th>categories_name</th>\n",
       "      <th>universities_name</th>\n",
       "      <th>course_url</th>\n",
       "    </tr>\n",
       "  </thead>\n",
       "  <tbody>\n",
       "    <tr>\n",
       "      <th>0</th>\n",
       "      <td>Contraception: Choices, Culture and Consequences</td>\n",
       "      <td>en</td>\n",
       "      <td>contraception</td>\n",
       "      <td>[3, 8]</td>\n",
       "      <td>[10]</td>\n",
       "      <td>[Medicine, Health &amp; Society]</td>\n",
       "      <td>[University of California, San Francisco]</td>\n",
       "      <td>https://www.coursera.org/course/contraception</td>\n",
       "    </tr>\n",
       "    <tr>\n",
       "      <th>1</th>\n",
       "      <td>Introduction to Computational Arts: Processing</td>\n",
       "      <td>en</td>\n",
       "      <td>compartsprocessing</td>\n",
       "      <td>[1, 4, 18, 22]</td>\n",
       "      <td>[117]</td>\n",
       "      <td>[Computer Science: Theory, Information, Tech &amp;...</td>\n",
       "      <td>[The State University of New York]</td>\n",
       "      <td>https://www.coursera.org/course/compartsproces...</td>\n",
       "    </tr>\n",
       "    <tr>\n",
       "      <th>2</th>\n",
       "      <td>Introduction to Computing 计算概论A</td>\n",
       "      <td>zh-cn</td>\n",
       "      <td>pkuic</td>\n",
       "      <td>[1, 12]</td>\n",
       "      <td>[163]</td>\n",
       "      <td>[Computer Science: Theory, Computer Science: S...</td>\n",
       "      <td>[Peking University]</td>\n",
       "      <td>https://www.coursera.org/course/pkuic</td>\n",
       "    </tr>\n",
       "    <tr>\n",
       "      <th>3</th>\n",
       "      <td>Global Perspectives on Sexual and Reproductive...</td>\n",
       "      <td>en</td>\n",
       "      <td>globalsrhr</td>\n",
       "      <td>[3, 8, 20]</td>\n",
       "      <td>[199]</td>\n",
       "      <td>[Medicine, Health &amp; Society, Social Sciences]</td>\n",
       "      <td>[Lund University]</td>\n",
       "      <td>https://www.coursera.org/course/globalsrhr</td>\n",
       "    </tr>\n",
       "    <tr>\n",
       "      <th>4</th>\n",
       "      <td>Writing II: Rhetorical Composing</td>\n",
       "      <td>en</td>\n",
       "      <td>writing2</td>\n",
       "      <td>[6, 14]</td>\n",
       "      <td>[28]</td>\n",
       "      <td>[Humanities , Education]</td>\n",
       "      <td>[The Ohio State University]</td>\n",
       "      <td>https://www.coursera.org/course/writing2</td>\n",
       "    </tr>\n",
       "  </tbody>\n",
       "</table>\n",
       "</div>"
      ],
      "text/plain": [
       "                                         course_name course_language  \\\n",
       "0   Contraception: Choices, Culture and Consequences              en   \n",
       "1     Introduction to Computational Arts: Processing              en   \n",
       "2                    Introduction to Computing 计算概论A           zh-cn   \n",
       "3  Global Perspectives on Sexual and Reproductive...              en   \n",
       "4                   Writing II: Rhetorical Composing              en   \n",
       "\n",
       "    course_short_name      categories universities  \\\n",
       "0       contraception          [3, 8]         [10]   \n",
       "1  compartsprocessing  [1, 4, 18, 22]        [117]   \n",
       "2               pkuic         [1, 12]        [163]   \n",
       "3          globalsrhr      [3, 8, 20]        [199]   \n",
       "4            writing2         [6, 14]         [28]   \n",
       "\n",
       "                                     categories_name  \\\n",
       "0                       [Medicine, Health & Society]   \n",
       "1  [Computer Science: Theory, Information, Tech &...   \n",
       "2  [Computer Science: Theory, Computer Science: S...   \n",
       "3      [Medicine, Health & Society, Social Sciences]   \n",
       "4                           [Humanities , Education]   \n",
       "\n",
       "                           universities_name  \\\n",
       "0  [University of California, San Francisco]   \n",
       "1         [The State University of New York]   \n",
       "2                        [Peking University]   \n",
       "3                          [Lund University]   \n",
       "4                [The Ohio State University]   \n",
       "\n",
       "                                          course_url  \n",
       "0      https://www.coursera.org/course/contraception  \n",
       "1  https://www.coursera.org/course/compartsproces...  \n",
       "2              https://www.coursera.org/course/pkuic  \n",
       "3         https://www.coursera.org/course/globalsrhr  \n",
       "4           https://www.coursera.org/course/writing2  "
      ]
     },
     "execution_count": 55,
     "metadata": {},
     "output_type": "execute_result"
    }
   ],
   "source": [
    "courses_df.head()"
   ]
  },
  {
   "cell_type": "code",
   "execution_count": 56,
   "metadata": {
    "collapsed": true
   },
   "outputs": [],
   "source": [
    "SHAREDCOUNT_API_KEY = 'f061a8f426b0cc2ed50e3dcf7359594f13f46e8c'\n",
    "def get_social_metrics(url, api_key):\n",
    "    sharedcount_response = urllib2.urlopen('https://free.sharedcount.com/?url=' + url + '&apikey=' + api_key)\n",
    "    return json.load(sharedcount_response)\n",
    "courses_df['sharedcount_metrics'] = map(lambda course_url: get_social_metrics(course_url, SHAREDCOUNT_API_KEY), courses_df['course_url'])"
   ]
  },
  {
   "cell_type": "code",
   "execution_count": 57,
   "metadata": {
    "collapsed": false
   },
   "outputs": [
    {
     "ename": "TypeError",
     "evalue": "'int' object has no attribute '__getitem__'",
     "output_type": "error",
     "traceback": [
      "\u001b[0;31m---------------------------------------------------------------------------\u001b[0m",
      "\u001b[0;31mTypeError\u001b[0m                                 Traceback (most recent call last)",
      "\u001b[0;32m<ipython-input-57-a77cea44c9cb>\u001b[0m in \u001b[0;36m<module>\u001b[0;34m()\u001b[0m\n\u001b[1;32m      1\u001b[0m \u001b[0mcourses_df\u001b[0m\u001b[0;34m[\u001b[0m\u001b[0;34m'twitter_count'\u001b[0m\u001b[0;34m]\u001b[0m \u001b[0;34m=\u001b[0m \u001b[0mmap\u001b[0m\u001b[0;34m(\u001b[0m\u001b[0;32mlambda\u001b[0m \u001b[0msharedcount\u001b[0m\u001b[0;34m:\u001b[0m \u001b[0msharedcount\u001b[0m\u001b[0;34m[\u001b[0m\u001b[0;34m'Twitter'\u001b[0m\u001b[0;34m]\u001b[0m\u001b[0;34m,\u001b[0m \u001b[0mcourses_df\u001b[0m\u001b[0;34m[\u001b[0m\u001b[0;34m'sharedcount_metrics'\u001b[0m\u001b[0;34m]\u001b[0m\u001b[0;34m)\u001b[0m\u001b[0;34m\u001b[0m\u001b[0m\n\u001b[1;32m      2\u001b[0m \u001b[0mcourses_df\u001b[0m\u001b[0;34m[\u001b[0m\u001b[0;34m'linkedin_count'\u001b[0m\u001b[0;34m]\u001b[0m \u001b[0;34m=\u001b[0m \u001b[0mmap\u001b[0m\u001b[0;34m(\u001b[0m\u001b[0;32mlambda\u001b[0m \u001b[0msharedcount\u001b[0m\u001b[0;34m:\u001b[0m \u001b[0msharedcount\u001b[0m\u001b[0;34m[\u001b[0m\u001b[0;34m'LinkedIn'\u001b[0m\u001b[0;34m]\u001b[0m\u001b[0;34m,\u001b[0m \u001b[0mcourses_df\u001b[0m\u001b[0;34m[\u001b[0m\u001b[0;34m'sharedcount_metrics'\u001b[0m\u001b[0;34m]\u001b[0m\u001b[0;34m)\u001b[0m\u001b[0;34m\u001b[0m\u001b[0m\n\u001b[0;32m----> 3\u001b[0;31m \u001b[0mcourses_df\u001b[0m\u001b[0;34m[\u001b[0m\u001b[0;34m'facebook_count'\u001b[0m\u001b[0;34m]\u001b[0m \u001b[0;34m=\u001b[0m \u001b[0mmap\u001b[0m\u001b[0;34m(\u001b[0m\u001b[0;32mlambda\u001b[0m \u001b[0msharedcount\u001b[0m\u001b[0;34m:\u001b[0m \u001b[0msharedcount\u001b[0m\u001b[0;34m[\u001b[0m\u001b[0;34m'Facebook'\u001b[0m\u001b[0;34m]\u001b[0m\u001b[0;34m[\u001b[0m\u001b[0;34m'total_count'\u001b[0m\u001b[0;34m]\u001b[0m\u001b[0;34m,\u001b[0m \u001b[0mcourses_df\u001b[0m\u001b[0;34m[\u001b[0m\u001b[0;34m'sharedcount_metrics'\u001b[0m\u001b[0;34m]\u001b[0m\u001b[0;34m)\u001b[0m\u001b[0;34m\u001b[0m\u001b[0m\n\u001b[0m",
      "\u001b[0;32m<ipython-input-57-a77cea44c9cb>\u001b[0m in \u001b[0;36m<lambda>\u001b[0;34m(sharedcount)\u001b[0m\n\u001b[1;32m      1\u001b[0m \u001b[0mcourses_df\u001b[0m\u001b[0;34m[\u001b[0m\u001b[0;34m'twitter_count'\u001b[0m\u001b[0;34m]\u001b[0m \u001b[0;34m=\u001b[0m \u001b[0mmap\u001b[0m\u001b[0;34m(\u001b[0m\u001b[0;32mlambda\u001b[0m \u001b[0msharedcount\u001b[0m\u001b[0;34m:\u001b[0m \u001b[0msharedcount\u001b[0m\u001b[0;34m[\u001b[0m\u001b[0;34m'Twitter'\u001b[0m\u001b[0;34m]\u001b[0m\u001b[0;34m,\u001b[0m \u001b[0mcourses_df\u001b[0m\u001b[0;34m[\u001b[0m\u001b[0;34m'sharedcount_metrics'\u001b[0m\u001b[0;34m]\u001b[0m\u001b[0;34m)\u001b[0m\u001b[0;34m\u001b[0m\u001b[0m\n\u001b[1;32m      2\u001b[0m \u001b[0mcourses_df\u001b[0m\u001b[0;34m[\u001b[0m\u001b[0;34m'linkedin_count'\u001b[0m\u001b[0;34m]\u001b[0m \u001b[0;34m=\u001b[0m \u001b[0mmap\u001b[0m\u001b[0;34m(\u001b[0m\u001b[0;32mlambda\u001b[0m \u001b[0msharedcount\u001b[0m\u001b[0;34m:\u001b[0m \u001b[0msharedcount\u001b[0m\u001b[0;34m[\u001b[0m\u001b[0;34m'LinkedIn'\u001b[0m\u001b[0;34m]\u001b[0m\u001b[0;34m,\u001b[0m \u001b[0mcourses_df\u001b[0m\u001b[0;34m[\u001b[0m\u001b[0;34m'sharedcount_metrics'\u001b[0m\u001b[0;34m]\u001b[0m\u001b[0;34m)\u001b[0m\u001b[0;34m\u001b[0m\u001b[0m\n\u001b[0;32m----> 3\u001b[0;31m \u001b[0mcourses_df\u001b[0m\u001b[0;34m[\u001b[0m\u001b[0;34m'facebook_count'\u001b[0m\u001b[0;34m]\u001b[0m \u001b[0;34m=\u001b[0m \u001b[0mmap\u001b[0m\u001b[0;34m(\u001b[0m\u001b[0;32mlambda\u001b[0m \u001b[0msharedcount\u001b[0m\u001b[0;34m:\u001b[0m \u001b[0msharedcount\u001b[0m\u001b[0;34m[\u001b[0m\u001b[0;34m'Facebook'\u001b[0m\u001b[0;34m]\u001b[0m\u001b[0;34m[\u001b[0m\u001b[0;34m'total_count'\u001b[0m\u001b[0;34m]\u001b[0m\u001b[0;34m,\u001b[0m \u001b[0mcourses_df\u001b[0m\u001b[0;34m[\u001b[0m\u001b[0;34m'sharedcount_metrics'\u001b[0m\u001b[0;34m]\u001b[0m\u001b[0;34m)\u001b[0m\u001b[0;34m\u001b[0m\u001b[0m\n\u001b[0m",
      "\u001b[0;31mTypeError\u001b[0m: 'int' object has no attribute '__getitem__'"
     ]
    }
   ],
   "source": [
    "courses_df['twitter_count'] = map(lambda sharedcount: sharedcount['Twitter'], courses_df['sharedcount_metrics'])\n",
    "courses_df['linkedin_count'] = map(lambda sharedcount: sharedcount['LinkedIn'], courses_df['sharedcount_metrics'])\n",
    "courses_df['facebook_count'] = map(lambda sharedcount: sharedcount['Facebook']['total_count'], courses_df['sharedcount_metrics'])"
   ]
  },
  {
   "cell_type": "code",
   "execution_count": 58,
   "metadata": {
    "collapsed": false
   },
   "outputs": [
    {
     "data": {
      "text/html": [
       "<div>\n",
       "<table border=\"1\" class=\"dataframe\">\n",
       "  <thead>\n",
       "    <tr style=\"text-align: right;\">\n",
       "      <th></th>\n",
       "      <th>course_name</th>\n",
       "      <th>course_language</th>\n",
       "      <th>course_short_name</th>\n",
       "      <th>categories</th>\n",
       "      <th>universities</th>\n",
       "      <th>categories_name</th>\n",
       "      <th>universities_name</th>\n",
       "      <th>course_url</th>\n",
       "      <th>sharedcount_metrics</th>\n",
       "      <th>twitter_count</th>\n",
       "      <th>linkedin_count</th>\n",
       "    </tr>\n",
       "  </thead>\n",
       "  <tbody>\n",
       "    <tr>\n",
       "      <th>0</th>\n",
       "      <td>Contraception: Choices, Culture and Consequences</td>\n",
       "      <td>en</td>\n",
       "      <td>contraception</td>\n",
       "      <td>[3, 8]</td>\n",
       "      <td>[10]</td>\n",
       "      <td>[Medicine, Health &amp; Society]</td>\n",
       "      <td>[University of California, San Francisco]</td>\n",
       "      <td>https://www.coursera.org/course/contraception</td>\n",
       "      <td>{u'StumbleUpon': 0, u'Reddit': 0, u'Delicious'...</td>\n",
       "      <td>0</td>\n",
       "      <td>3</td>\n",
       "    </tr>\n",
       "    <tr>\n",
       "      <th>1</th>\n",
       "      <td>Introduction to Computational Arts: Processing</td>\n",
       "      <td>en</td>\n",
       "      <td>compartsprocessing</td>\n",
       "      <td>[1, 4, 18, 22]</td>\n",
       "      <td>[117]</td>\n",
       "      <td>[Computer Science: Theory, Information, Tech &amp;...</td>\n",
       "      <td>[The State University of New York]</td>\n",
       "      <td>https://www.coursera.org/course/compartsproces...</td>\n",
       "      <td>{u'StumbleUpon': 0, u'Reddit': 0, u'Delicious'...</td>\n",
       "      <td>0</td>\n",
       "      <td>1</td>\n",
       "    </tr>\n",
       "    <tr>\n",
       "      <th>2</th>\n",
       "      <td>Introduction to Computing 计算概论A</td>\n",
       "      <td>zh-cn</td>\n",
       "      <td>pkuic</td>\n",
       "      <td>[1, 12]</td>\n",
       "      <td>[163]</td>\n",
       "      <td>[Computer Science: Theory, Computer Science: S...</td>\n",
       "      <td>[Peking University]</td>\n",
       "      <td>https://www.coursera.org/course/pkuic</td>\n",
       "      <td>{u'StumbleUpon': 0, u'Reddit': 0, u'Delicious'...</td>\n",
       "      <td>0</td>\n",
       "      <td>0</td>\n",
       "    </tr>\n",
       "    <tr>\n",
       "      <th>3</th>\n",
       "      <td>Global Perspectives on Sexual and Reproductive...</td>\n",
       "      <td>en</td>\n",
       "      <td>globalsrhr</td>\n",
       "      <td>[3, 8, 20]</td>\n",
       "      <td>[199]</td>\n",
       "      <td>[Medicine, Health &amp; Society, Social Sciences]</td>\n",
       "      <td>[Lund University]</td>\n",
       "      <td>https://www.coursera.org/course/globalsrhr</td>\n",
       "      <td>{u'StumbleUpon': 0, u'Reddit': 0, u'Delicious'...</td>\n",
       "      <td>0</td>\n",
       "      <td>150</td>\n",
       "    </tr>\n",
       "    <tr>\n",
       "      <th>4</th>\n",
       "      <td>Writing II: Rhetorical Composing</td>\n",
       "      <td>en</td>\n",
       "      <td>writing2</td>\n",
       "      <td>[6, 14]</td>\n",
       "      <td>[28]</td>\n",
       "      <td>[Humanities , Education]</td>\n",
       "      <td>[The Ohio State University]</td>\n",
       "      <td>https://www.coursera.org/course/writing2</td>\n",
       "      <td>{u'StumbleUpon': 0, u'Reddit': 0, u'Delicious'...</td>\n",
       "      <td>0</td>\n",
       "      <td>10</td>\n",
       "    </tr>\n",
       "  </tbody>\n",
       "</table>\n",
       "</div>"
      ],
      "text/plain": [
       "                                         course_name course_language  \\\n",
       "0   Contraception: Choices, Culture and Consequences              en   \n",
       "1     Introduction to Computational Arts: Processing              en   \n",
       "2                    Introduction to Computing 计算概论A           zh-cn   \n",
       "3  Global Perspectives on Sexual and Reproductive...              en   \n",
       "4                   Writing II: Rhetorical Composing              en   \n",
       "\n",
       "    course_short_name      categories universities  \\\n",
       "0       contraception          [3, 8]         [10]   \n",
       "1  compartsprocessing  [1, 4, 18, 22]        [117]   \n",
       "2               pkuic         [1, 12]        [163]   \n",
       "3          globalsrhr      [3, 8, 20]        [199]   \n",
       "4            writing2         [6, 14]         [28]   \n",
       "\n",
       "                                     categories_name  \\\n",
       "0                       [Medicine, Health & Society]   \n",
       "1  [Computer Science: Theory, Information, Tech &...   \n",
       "2  [Computer Science: Theory, Computer Science: S...   \n",
       "3      [Medicine, Health & Society, Social Sciences]   \n",
       "4                           [Humanities , Education]   \n",
       "\n",
       "                           universities_name  \\\n",
       "0  [University of California, San Francisco]   \n",
       "1         [The State University of New York]   \n",
       "2                        [Peking University]   \n",
       "3                          [Lund University]   \n",
       "4                [The Ohio State University]   \n",
       "\n",
       "                                          course_url  \\\n",
       "0      https://www.coursera.org/course/contraception   \n",
       "1  https://www.coursera.org/course/compartsproces...   \n",
       "2              https://www.coursera.org/course/pkuic   \n",
       "3         https://www.coursera.org/course/globalsrhr   \n",
       "4           https://www.coursera.org/course/writing2   \n",
       "\n",
       "                                 sharedcount_metrics  twitter_count  \\\n",
       "0  {u'StumbleUpon': 0, u'Reddit': 0, u'Delicious'...              0   \n",
       "1  {u'StumbleUpon': 0, u'Reddit': 0, u'Delicious'...              0   \n",
       "2  {u'StumbleUpon': 0, u'Reddit': 0, u'Delicious'...              0   \n",
       "3  {u'StumbleUpon': 0, u'Reddit': 0, u'Delicious'...              0   \n",
       "4  {u'StumbleUpon': 0, u'Reddit': 0, u'Delicious'...              0   \n",
       "\n",
       "   linkedin_count  \n",
       "0               3  \n",
       "1               1  \n",
       "2               0  \n",
       "3             150  \n",
       "4              10  "
      ]
     },
     "execution_count": 58,
     "metadata": {},
     "output_type": "execute_result"
    }
   ],
   "source": [
    "courses_df.head()"
   ]
  },
  {
   "cell_type": "code",
   "execution_count": 60,
   "metadata": {
    "collapsed": false
   },
   "outputs": [
    {
     "name": "stderr",
     "output_type": "stream",
     "text": [
      "/usr/local/lib/python2.7/site-packages/ipykernel/__main__.py:5: FutureWarning: sort(columns=....) is deprecated, use sort_values(by=.....)\n"
     ]
    },
    {
     "data": {
      "text/html": [
       "<div>\n",
       "<table border=\"1\" class=\"dataframe\">\n",
       "  <thead>\n",
       "    <tr style=\"text-align: right;\">\n",
       "      <th></th>\n",
       "      <th>course_name</th>\n",
       "      <th>universities_name</th>\n",
       "      <th>categories_name</th>\n",
       "      <th>twitter_count</th>\n",
       "      <th>linkedin_count</th>\n",
       "    </tr>\n",
       "  </thead>\n",
       "  <tbody>\n",
       "    <tr>\n",
       "      <th>0</th>\n",
       "      <td>Contraception: Choices, Culture and Consequences</td>\n",
       "      <td>[University of California, San Francisco]</td>\n",
       "      <td>[Medicine, Health &amp; Society]</td>\n",
       "      <td>0</td>\n",
       "      <td>3</td>\n",
       "    </tr>\n",
       "    <tr>\n",
       "      <th>262</th>\n",
       "      <td>Preparing for the AP* Calculus AB and BC Exams...</td>\n",
       "      <td>[University of Houston System]</td>\n",
       "      <td>[Mathematics]</td>\n",
       "      <td>0</td>\n",
       "      <td>0</td>\n",
       "    </tr>\n",
       "    <tr>\n",
       "      <th>287</th>\n",
       "      <td>Nudge-it: Understanding obesity</td>\n",
       "      <td>[The University of Edinburgh]</td>\n",
       "      <td>[Economics &amp; Finance, Medicine, Health &amp; Socie...</td>\n",
       "      <td>0</td>\n",
       "      <td>4</td>\n",
       "    </tr>\n",
       "    <tr>\n",
       "      <th>286</th>\n",
       "      <td>Teaching and Assessing Clinical Skills</td>\n",
       "      <td>[University of Michigan]</td>\n",
       "      <td>[Medicine, Health &amp; Society]</td>\n",
       "      <td>0</td>\n",
       "      <td>9</td>\n",
       "    </tr>\n",
       "    <tr>\n",
       "      <th>284</th>\n",
       "      <td>Australian literature: a rough guide</td>\n",
       "      <td>[University of Western Australia]</td>\n",
       "      <td>[Humanities , Arts]</td>\n",
       "      <td>0</td>\n",
       "      <td>2</td>\n",
       "    </tr>\n",
       "    <tr>\n",
       "      <th>283</th>\n",
       "      <td>Building an Information Risk Management Toolkit</td>\n",
       "      <td>[University of Washington]</td>\n",
       "      <td>[Information, Tech &amp; Design, Computer Science:...</td>\n",
       "      <td>0</td>\n",
       "      <td>69</td>\n",
       "    </tr>\n",
       "    <tr>\n",
       "      <th>282</th>\n",
       "      <td>Inquiry Science Learning: Perspectives &amp; Pract...</td>\n",
       "      <td>[Rice University]</td>\n",
       "      <td>[Education, Teacher Professional Development]</td>\n",
       "      <td>0</td>\n",
       "      <td>0</td>\n",
       "    </tr>\n",
       "    <tr>\n",
       "      <th>280</th>\n",
       "      <td>Common Core in Action: Math Classroom Challeng...</td>\n",
       "      <td>[New Teacher Center]</td>\n",
       "      <td>[Mathematics, Education, Teacher Professional ...</td>\n",
       "      <td>0</td>\n",
       "      <td>4</td>\n",
       "    </tr>\n",
       "    <tr>\n",
       "      <th>279</th>\n",
       "      <td>Living with Dementia: Impact on Individuals, C...</td>\n",
       "      <td>[Johns Hopkins University]</td>\n",
       "      <td>[Medicine, Health &amp; Society, Social Sciences]</td>\n",
       "      <td>0</td>\n",
       "      <td>9914</td>\n",
       "    </tr>\n",
       "    <tr>\n",
       "      <th>277</th>\n",
       "      <td>Networks: Friends, Money, and Bytes</td>\n",
       "      <td>[Princeton University]</td>\n",
       "      <td>[Economics &amp; Finance, Information, Tech &amp; Desi...</td>\n",
       "      <td>0</td>\n",
       "      <td>106</td>\n",
       "    </tr>\n",
       "  </tbody>\n",
       "</table>\n",
       "</div>"
      ],
      "text/plain": [
       "                                           course_name  \\\n",
       "0     Contraception: Choices, Culture and Consequences   \n",
       "262  Preparing for the AP* Calculus AB and BC Exams...   \n",
       "287                    Nudge-it: Understanding obesity   \n",
       "286             Teaching and Assessing Clinical Skills   \n",
       "284               Australian literature: a rough guide   \n",
       "283    Building an Information Risk Management Toolkit   \n",
       "282  Inquiry Science Learning: Perspectives & Pract...   \n",
       "280  Common Core in Action: Math Classroom Challeng...   \n",
       "279  Living with Dementia: Impact on Individuals, C...   \n",
       "277                Networks: Friends, Money, and Bytes   \n",
       "\n",
       "                             universities_name  \\\n",
       "0    [University of California, San Francisco]   \n",
       "262             [University of Houston System]   \n",
       "287              [The University of Edinburgh]   \n",
       "286                   [University of Michigan]   \n",
       "284          [University of Western Australia]   \n",
       "283                 [University of Washington]   \n",
       "282                          [Rice University]   \n",
       "280                       [New Teacher Center]   \n",
       "279                 [Johns Hopkins University]   \n",
       "277                     [Princeton University]   \n",
       "\n",
       "                                       categories_name  twitter_count  \\\n",
       "0                         [Medicine, Health & Society]              0   \n",
       "262                                      [Mathematics]              0   \n",
       "287  [Economics & Finance, Medicine, Health & Socie...              0   \n",
       "286                       [Medicine, Health & Society]              0   \n",
       "284                                [Humanities , Arts]              0   \n",
       "283  [Information, Tech & Design, Computer Science:...              0   \n",
       "282      [Education, Teacher Professional Development]              0   \n",
       "280  [Mathematics, Education, Teacher Professional ...              0   \n",
       "279      [Medicine, Health & Society, Social Sciences]              0   \n",
       "277  [Economics & Finance, Information, Tech & Desi...              0   \n",
       "\n",
       "     linkedin_count  \n",
       "0                 3  \n",
       "262               0  \n",
       "287               4  \n",
       "286               9  \n",
       "284               2  \n",
       "283              69  \n",
       "282               0  \n",
       "280               4  \n",
       "279            9914  \n",
       "277             106  "
      ]
     },
     "execution_count": 60,
     "metadata": {},
     "output_type": "execute_result"
    }
   ],
   "source": [
    "cols_to_show = ['course_name', 'universities_name', 'categories_name', 'twitter_count', 'linkedin_count']\n",
    "#Get English courses\n",
    "query = courses_df[courses_df['course_language'] == 'en']\n",
    "#Sort the courses by twitter count and get the top 10 courses\n",
    "query = query.sort('twitter_count', ascending=0).head(10)\n",
    "query[cols_to_show]"
   ]
  },
  {
   "cell_type": "code",
   "execution_count": 61,
   "metadata": {
    "collapsed": false
   },
   "outputs": [
    {
     "name": "stderr",
     "output_type": "stream",
     "text": [
      "/usr/local/lib/python2.7/site-packages/ipykernel/__main__.py:6: FutureWarning: sort(columns=....) is deprecated, use sort_values(by=.....)\n"
     ]
    },
    {
     "data": {
      "text/html": [
       "<div>\n",
       "<table border=\"1\" class=\"dataframe\">\n",
       "  <thead>\n",
       "    <tr style=\"text-align: right;\">\n",
       "      <th></th>\n",
       "      <th>course_name</th>\n",
       "      <th>universities_name</th>\n",
       "      <th>categories_name</th>\n",
       "      <th>twitter_count</th>\n",
       "      <th>linkedin_count</th>\n",
       "    </tr>\n",
       "  </thead>\n",
       "  <tbody>\n",
       "    <tr>\n",
       "      <th>30</th>\n",
       "      <td>Preparing for the AP* Statistics Exam</td>\n",
       "      <td>[University of Houston System]</td>\n",
       "      <td>[Mathematics, Statistics and Data Analysis]</td>\n",
       "      <td>0</td>\n",
       "      <td>0</td>\n",
       "    </tr>\n",
       "    <tr>\n",
       "      <th>237</th>\n",
       "      <td>Computational Molecular Evolution</td>\n",
       "      <td>[Technical University of Denmark (DTU)]</td>\n",
       "      <td>[Biology &amp; Life Sciences, Statistics and Data ...</td>\n",
       "      <td>0</td>\n",
       "      <td>10</td>\n",
       "    </tr>\n",
       "    <tr>\n",
       "      <th>357</th>\n",
       "      <td>Startup Engineering</td>\n",
       "      <td>[Stanford University]</td>\n",
       "      <td>[Computer Science: Software Engineering, Busin...</td>\n",
       "      <td>0</td>\n",
       "      <td>254</td>\n",
       "    </tr>\n",
       "    <tr>\n",
       "      <th>341</th>\n",
       "      <td>High Performance Scientific Computing</td>\n",
       "      <td>[University of Washington]</td>\n",
       "      <td>[Information, Tech &amp; Design, Statistics and Da...</td>\n",
       "      <td>0</td>\n",
       "      <td>63</td>\n",
       "    </tr>\n",
       "    <tr>\n",
       "      <th>338</th>\n",
       "      <td>Maps and the Geospatial Revolution</td>\n",
       "      <td>[The Pennsylvania State University]</td>\n",
       "      <td>[Information, Tech &amp; Design, Statistics and Da...</td>\n",
       "      <td>0</td>\n",
       "      <td>327</td>\n",
       "    </tr>\n",
       "    <tr>\n",
       "      <th>315</th>\n",
       "      <td>Understanding the UK's 2015 General Election</td>\n",
       "      <td>[The University of Edinburgh]</td>\n",
       "      <td>[Humanities , Business &amp; Management, Statistic...</td>\n",
       "      <td>0</td>\n",
       "      <td>3</td>\n",
       "    </tr>\n",
       "    <tr>\n",
       "      <th>295</th>\n",
       "      <td>AstroTech: The Science and Technology behind A...</td>\n",
       "      <td>[The University of Edinburgh]</td>\n",
       "      <td>[Physical &amp; Earth Sciences, Statistics and Dat...</td>\n",
       "      <td>0</td>\n",
       "      <td>94</td>\n",
       "    </tr>\n",
       "    <tr>\n",
       "      <th>263</th>\n",
       "      <td>Applied Logistic Regression</td>\n",
       "      <td>[The Ohio State University]</td>\n",
       "      <td>[Economics &amp; Finance, Medicine, Information, T...</td>\n",
       "      <td>0</td>\n",
       "      <td>70</td>\n",
       "    </tr>\n",
       "    <tr>\n",
       "      <th>259</th>\n",
       "      <td>The Caltech-JPL Summer School on Big Data Anal...</td>\n",
       "      <td>[Caltech]</td>\n",
       "      <td>[Statistics and Data Analysis]</td>\n",
       "      <td>0</td>\n",
       "      <td>9914</td>\n",
       "    </tr>\n",
       "    <tr>\n",
       "      <th>256</th>\n",
       "      <td>Enhance Your Career and Employability Skills</td>\n",
       "      <td>[University of London]</td>\n",
       "      <td>[Computer Science: Theory, Economics &amp; Finance...</td>\n",
       "      <td>0</td>\n",
       "      <td>602</td>\n",
       "    </tr>\n",
       "  </tbody>\n",
       "</table>\n",
       "</div>"
      ],
      "text/plain": [
       "                                           course_name  \\\n",
       "30               Preparing for the AP* Statistics Exam   \n",
       "237                  Computational Molecular Evolution   \n",
       "357                                Startup Engineering   \n",
       "341              High Performance Scientific Computing   \n",
       "338                 Maps and the Geospatial Revolution   \n",
       "315       Understanding the UK's 2015 General Election   \n",
       "295  AstroTech: The Science and Technology behind A...   \n",
       "263                        Applied Logistic Regression   \n",
       "259  The Caltech-JPL Summer School on Big Data Anal...   \n",
       "256       Enhance Your Career and Employability Skills   \n",
       "\n",
       "                           universities_name  \\\n",
       "30            [University of Houston System]   \n",
       "237  [Technical University of Denmark (DTU)]   \n",
       "357                    [Stanford University]   \n",
       "341               [University of Washington]   \n",
       "338      [The Pennsylvania State University]   \n",
       "315            [The University of Edinburgh]   \n",
       "295            [The University of Edinburgh]   \n",
       "263              [The Ohio State University]   \n",
       "259                                [Caltech]   \n",
       "256                   [University of London]   \n",
       "\n",
       "                                       categories_name  twitter_count  \\\n",
       "30         [Mathematics, Statistics and Data Analysis]              0   \n",
       "237  [Biology & Life Sciences, Statistics and Data ...              0   \n",
       "357  [Computer Science: Software Engineering, Busin...              0   \n",
       "341  [Information, Tech & Design, Statistics and Da...              0   \n",
       "338  [Information, Tech & Design, Statistics and Da...              0   \n",
       "315  [Humanities , Business & Management, Statistic...              0   \n",
       "295  [Physical & Earth Sciences, Statistics and Dat...              0   \n",
       "263  [Economics & Finance, Medicine, Information, T...              0   \n",
       "259                     [Statistics and Data Analysis]              0   \n",
       "256  [Computer Science: Theory, Economics & Finance...              0   \n",
       "\n",
       "     linkedin_count  \n",
       "30                0  \n",
       "237              10  \n",
       "357             254  \n",
       "341              63  \n",
       "338             327  \n",
       "315               3  \n",
       "295              94  \n",
       "263              70  \n",
       "259            9914  \n",
       "256             602  "
      ]
     },
     "execution_count": 61,
     "metadata": {},
     "output_type": "execute_result"
    }
   ],
   "source": [
    "#Get English courses\n",
    "query = courses_df[courses_df['course_language'] == 'en']\n",
    "#Filter the \"Statistics and Data Analysis\" courses\n",
    "query = query[query['categories_name'].map(lambda categories_name: 'Statistics and Data Analysis' in categories_name)]\n",
    "#Sort the courses by twitter count and get the top 10 courses\n",
    "query = query.sort('twitter_count', ascending=0).head(10)\n",
    "query[cols_to_show]"
   ]
  },
  {
   "cell_type": "code",
   "execution_count": null,
   "metadata": {
    "collapsed": true
   },
   "outputs": [],
   "source": []
  }
 ],
 "metadata": {
  "kernelspec": {
   "display_name": "Python 2",
   "language": "python",
   "name": "python2"
  },
  "language_info": {
   "codemirror_mode": {
    "name": "ipython",
    "version": 2
   },
   "file_extension": ".py",
   "mimetype": "text/x-python",
   "name": "python",
   "nbconvert_exporter": "python",
   "pygments_lexer": "ipython2",
   "version": "2.7.12"
  }
 },
 "nbformat": 4,
 "nbformat_minor": 2
}
